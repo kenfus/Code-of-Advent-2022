{
 "cells": [
  {
   "cell_type": "code",
   "execution_count": 1,
   "metadata": {},
   "outputs": [],
   "source": [
    "import numpy as np\n",
    "import pandas as pd"
   ]
  },
  {
   "cell_type": "code",
   "execution_count": 42,
   "metadata": {},
   "outputs": [
    {
     "data": {
      "text/html": [
       "<div>\n",
       "<style scoped>\n",
       "    .dataframe tbody tr th:only-of-type {\n",
       "        vertical-align: middle;\n",
       "    }\n",
       "\n",
       "    .dataframe tbody tr th {\n",
       "        vertical-align: top;\n",
       "    }\n",
       "\n",
       "    .dataframe thead th {\n",
       "        text-align: right;\n",
       "    }\n",
       "</style>\n",
       "<table border=\"1\" class=\"dataframe\">\n",
       "  <thead>\n",
       "    <tr style=\"text-align: right;\">\n",
       "      <th></th>\n",
       "      <th>0</th>\n",
       "      <th>1</th>\n",
       "    </tr>\n",
       "  </thead>\n",
       "  <tbody>\n",
       "    <tr>\n",
       "      <th>0</th>\n",
       "      <td>C</td>\n",
       "      <td>Z</td>\n",
       "    </tr>\n",
       "    <tr>\n",
       "      <th>1</th>\n",
       "      <td>C</td>\n",
       "      <td>X</td>\n",
       "    </tr>\n",
       "    <tr>\n",
       "      <th>2</th>\n",
       "      <td>B</td>\n",
       "      <td>Z</td>\n",
       "    </tr>\n",
       "    <tr>\n",
       "      <th>3</th>\n",
       "      <td>A</td>\n",
       "      <td>X</td>\n",
       "    </tr>\n",
       "    <tr>\n",
       "      <th>4</th>\n",
       "      <td>A</td>\n",
       "      <td>Z</td>\n",
       "    </tr>\n",
       "  </tbody>\n",
       "</table>\n",
       "</div>"
      ],
      "text/plain": [
       "   0  1\n",
       "0  C  Z\n",
       "1  C  X\n",
       "2  B  Z\n",
       "3  A  X\n",
       "4  A  Z"
      ]
     },
     "execution_count": 42,
     "metadata": {},
     "output_type": "execute_result"
    }
   ],
   "source": [
    "data = pd.read_csv('input.txt', sep='\\t', header=None, skip_blank_lines=False)\n",
    "# Split columns by empty space\n",
    "data[[0, 1]] = data[0].str.split(' ', expand=True)\n",
    "data.head()"
   ]
  },
  {
   "cell_type": "code",
   "execution_count": 43,
   "metadata": {},
   "outputs": [],
   "source": [
    "#A for Rock, B for Paper, and C for Scissors.\n",
    "#X for Rock, Y for Paper, and Z for Scissors. \n",
    "\n",
    "def result_rock_paper_scissor(your_move, opponent_move):\n",
    "    if your_move == 'A' and opponent_move == 'X' or your_move == 'B' and opponent_move == 'Y' or your_move == 'C' and opponent_move == 'Z':\n",
    "        return 'Tie' \n",
    "    elif your_move == 'A' and opponent_move == 'Y':\n",
    "        return 'Win'\n",
    "    elif your_move == 'A' and opponent_move == 'Z':\n",
    "        return 'Lose'\n",
    "    elif your_move == 'B' and opponent_move == 'X':\n",
    "        return 'Lose'\n",
    "    elif your_move == 'B' and opponent_move == 'Z':\n",
    "        return 'Win'\n",
    "    elif your_move == 'C' and opponent_move == 'X':\n",
    "        return 'Win'\n",
    "    elif your_move == 'C' and opponent_move == 'Y':\n",
    "        return 'Lose'\n",
    "    else:\n",
    "        return 'Error'\n",
    "    \n",
    "reward_points = {\n",
    "    'Win': 6,\n",
    "    'Tie': 3,\n",
    "    'Lose': 0\n",
    "}\n",
    "\n",
    "reward_shape = {\n",
    "    'X': 1,\n",
    "    'Y': 2, \n",
    "    'Z': 3\n",
    "}"
   ]
  },
  {
   "cell_type": "code",
   "execution_count": 44,
   "metadata": {},
   "outputs": [],
   "source": [
    "points = 0\n",
    "for i, row in data.iterrows():\n",
    "    point = reward_points[result_rock_paper_scissor(row[0], row[1])] + reward_shape[row[1]]\n",
    "    points = points + point"
   ]
  },
  {
   "cell_type": "code",
   "execution_count": 45,
   "metadata": {},
   "outputs": [],
   "source": [
    "data.replace(\n",
    "    {'X': 'Lose', 'Y': 'Tie', 'Z': 'Win'}, inplace=True\n",
    ")"
   ]
  },
  {
   "cell_type": "code",
   "execution_count": 46,
   "metadata": {},
   "outputs": [],
   "source": [
    "points = 0\n",
    "possible_moves = ['X', 'Y', 'Z']\n",
    "for i, row in data.iterrows():\n",
    "    for move in possible_moves:\n",
    "        if result_rock_paper_scissor(row[0], move) == row[1]:\n",
    "            point = reward_points[result_rock_paper_scissor(row[0], move)] + reward_shape[move]\n",
    "            points = points + point\n",
    "            break"
   ]
  },
  {
   "cell_type": "code",
   "execution_count": 47,
   "metadata": {},
   "outputs": [
    {
     "data": {
      "text/plain": [
       "16098"
      ]
     },
     "execution_count": 47,
     "metadata": {},
     "output_type": "execute_result"
    }
   ],
   "source": [
    "points"
   ]
  },
  {
   "cell_type": "code",
   "execution_count": null,
   "metadata": {},
   "outputs": [],
   "source": []
  }
 ],
 "metadata": {
  "kernelspec": {
   "display_name": "Python 3.9.15 ('base')",
   "language": "python",
   "name": "python3"
  },
  "language_info": {
   "codemirror_mode": {
    "name": "ipython",
    "version": 3
   },
   "file_extension": ".py",
   "mimetype": "text/x-python",
   "name": "python",
   "nbconvert_exporter": "python",
   "pygments_lexer": "ipython3",
   "version": "3.9.15"
  },
  "orig_nbformat": 4,
  "vscode": {
   "interpreter": {
    "hash": "8964877aef109d195c460730abd4e37d4d2dd07882bbb9a78c74b245bc1da7dd"
   }
  }
 },
 "nbformat": 4,
 "nbformat_minor": 2
}
