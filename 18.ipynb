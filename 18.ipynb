{
 "cells": [
  {
   "cell_type": "code",
   "execution_count": 281,
   "metadata": {},
   "outputs": [],
   "source": [
    "import numpy as np\n",
    "from scipy import ndimage"
   ]
  },
  {
   "cell_type": "code",
   "execution_count": 282,
   "metadata": {},
   "outputs": [],
   "source": [
    "lava_data = np.loadtxt('18.txt', delimiter=',',  dtype=np.int64)\n",
    "flying_lava = np.zeros((50, 50, 50), dtype=np.int64)"
   ]
  },
  {
   "cell_type": "code",
   "execution_count": 283,
   "metadata": {},
   "outputs": [
    {
     "data": {
      "text/plain": [
       "(50, 50, 50)"
      ]
     },
     "execution_count": 283,
     "metadata": {},
     "output_type": "execute_result"
    }
   ],
   "source": [
    "for x, y, z, in lava_data:\n",
    "    # Add 1 to each coordinate to make the array 1-based\n",
    "    x += 1\n",
    "    y += 1\n",
    "    z += 1\n",
    "    flying_lava[x, y, z] = 1\n",
    "    \n",
    "flying_lava_filled = ndimage.binary_fill_holes(flying_lava).astype(int)\n",
    "flying_lava_filled.shape"
   ]
  },
  {
   "cell_type": "code",
   "execution_count": 284,
   "metadata": {},
   "outputs": [
    {
     "data": {
      "text/plain": [
       "2106"
      ]
     },
     "execution_count": 284,
     "metadata": {},
     "output_type": "execute_result"
    }
   ],
   "source": [
    "lava_idx = np.where(flying_lava_filled == 1)\n",
    "exposed_surfaces = 0\n",
    "kernel = ndimage.generate_binary_structure(3, 1)\n",
    "for x, y, z in zip(*lava_idx):\n",
    "    # Count how many 0s are around each 1\n",
    "    subset = flying_lava_filled[x-1:x+2, y-1:y+2, z-1:z+2]\n",
    "    inverse = np.logical_not(subset)\n",
    "    exposed_surfaces += np.sum(kernel * inverse)\n",
    "exposed_surfaces"
   ]
  },
  {
   "cell_type": "code",
   "execution_count": null,
   "metadata": {},
   "outputs": [],
   "source": []
  }
 ],
 "metadata": {
  "kernelspec": {
   "display_name": "advent_2022",
   "language": "python",
   "name": "python3"
  },
  "language_info": {
   "codemirror_mode": {
    "name": "ipython",
    "version": 3
   },
   "file_extension": ".py",
   "mimetype": "text/x-python",
   "name": "python",
   "nbconvert_exporter": "python",
   "pygments_lexer": "ipython3",
   "version": "3.11.0"
  },
  "orig_nbformat": 4,
  "vscode": {
   "interpreter": {
    "hash": "f08d037bee00f2fee7618c7c565b4323b41a9ff8757300c85d2c53e197c8c59d"
   }
  }
 },
 "nbformat": 4,
 "nbformat_minor": 2
}
