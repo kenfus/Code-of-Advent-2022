{
 "cells": [
  {
   "cell_type": "code",
   "execution_count": 110,
   "metadata": {},
   "outputs": [],
   "source": [
    "import numpy as np"
   ]
  },
  {
   "cell_type": "code",
   "execution_count": 111,
   "metadata": {},
   "outputs": [],
   "source": [
    "WIDTH_CHAMER = 7\n",
    "LEFT_DISTANCE = 2\n",
    "HEIGHT_ABOVE_GROUND = 3\n",
    "N_ROCKS_FALL = 2022"
   ]
  },
  {
   "cell_type": "code",
   "execution_count": 112,
   "metadata": {},
   "outputs": [],
   "source": [
    "with open('17_rocks.txt') as f:\n",
    "    lines = f.readlines()"
   ]
  },
  {
   "cell_type": "code",
   "execution_count": 113,
   "metadata": {},
   "outputs": [],
   "source": [
    "rocks = []\n",
    "\n",
    "rock = []\n",
    "for line in lines:\n",
    "    if line.strip() == '':\n",
    "        rocks.append(np.vstack(rock))\n",
    "        rock = []\n",
    "    else:\n",
    "        line = line.strip().replace('#', '@')\n",
    "        line = [x for x in line]\n",
    "        for _ in range(LEFT_DISTANCE):\n",
    "            line.insert(0, '.')\n",
    "        while len(line) < WIDTH_CHAMER:\n",
    "            line.append('.')\n",
    "        rock.append(line)\n",
    "rocks.append(np.vstack(rock))\n",
    "        "
   ]
  },
  {
   "cell_type": "code",
   "execution_count": 114,
   "metadata": {},
   "outputs": [],
   "source": [
    "with open('17.txt') as f:\n",
    "    lines = f.readlines()"
   ]
  },
  {
   "cell_type": "code",
   "execution_count": 115,
   "metadata": {},
   "outputs": [],
   "source": [
    "for line in lines:\n",
    "    line = line.strip()\n",
    "    line = [x for x in line]\n",
    "jets = line"
   ]
  },
  {
   "cell_type": "code",
   "execution_count": 116,
   "metadata": {},
   "outputs": [],
   "source": [
    "test = [2,3]"
   ]
  },
  {
   "cell_type": "code",
   "execution_count": 117,
   "metadata": {},
   "outputs": [
    {
     "data": {
      "text/plain": [
       "2"
      ]
     },
     "execution_count": 117,
     "metadata": {},
     "output_type": "execute_result"
    }
   ],
   "source": [
    "test.pop(0)"
   ]
  },
  {
   "cell_type": "code",
   "execution_count": 118,
   "metadata": {},
   "outputs": [
    {
     "data": {
      "text/plain": [
       "1"
      ]
     },
     "execution_count": 118,
     "metadata": {},
     "output_type": "execute_result"
    }
   ],
   "source": [
    "len(test)"
   ]
  },
  {
   "cell_type": "code",
   "execution_count": 146,
   "metadata": {},
   "outputs": [
    {
     "name": "stderr",
     "output_type": "stream",
     "text": [
      "100%|██████████| 5000/5000 [00:45<00:00, 110.97it/s]\n"
     ]
    }
   ],
   "source": [
    "cave = np.empty((1, WIDTH_CHAMER), dtype=object)\n",
    "cave_space = np.empty((HEIGHT_ABOVE_GROUND, WIDTH_CHAMER), dtype=object)\n",
    "rocks_yield = rocks.copy()\n",
    "jet_yield = jets.copy()\n",
    "cave_space[:] = '.'\n",
    "cave[:] = '#'\n",
    "\n",
    "\n",
    "def check_if_falling_rock_is_touching_ground(cave):\n",
    "    for y, x in zip(*np.where(cave == '@')):\n",
    "        if cave[y+1, x] == '#':\n",
    "            return True\n",
    "    \n",
    "    return False\n",
    "\n",
    "def remove_only_air_rows(cave):\n",
    "    mask = np.all(cave == '.', axis=1)\n",
    "    return cave[~mask, :].copy()\n",
    "\n",
    "def move_all_rocks(cave, direction):\n",
    "    cave_before = cave.copy()\n",
    "    falling_rocks_idx = list(zip(*np.where(cave == '@')))\n",
    "    falling_rocks_x = np.where(cave == '@')[1]\n",
    "    if direction == 'v':\n",
    "        falling_rocks_idx.reverse() # To get the bottom ones first.\n",
    "        for y, x in falling_rocks_idx:\n",
    "            cave[y+1, x] = '@'\n",
    "            cave[y, x] = '.'\n",
    "    elif direction == '>':\n",
    "        falling_rocks_idx.reverse()\n",
    "        if not np.max(falling_rocks_x) == 6:\n",
    "            for y, x in falling_rocks_idx:\n",
    "                if cave[y, x+1] == '#':\n",
    "                    return cave_before\n",
    "                cave[y, x+1] = '@'\n",
    "                cave[y, x] = '.'\n",
    "    elif direction == '<':\n",
    "        if not np.min(falling_rocks_x) == 0:\n",
    "            for y, x in falling_rocks_idx:\n",
    "                if cave[y, x-1] == '#':\n",
    "                    return cave_before\n",
    "                cave[y, x-1] = '@'\n",
    "                cave[y, x] = '.'\n",
    "            \n",
    "    return cave\n",
    " \n",
    "from tqdm import tqdm\n",
    "height_deltas = []\n",
    "for i in tqdm(range(1, 5000+1)):\n",
    "    rock = rocks_yield.pop(0)\n",
    "    if len(rocks_yield) == 0:\n",
    "        rocks_yield = rocks.copy()\n",
    "    cave_before = cave.copy()\n",
    "    cave = np.vstack((rock, cave_space, cave))\n",
    "    nr_jets_until_rock_hits_ground = 0\n",
    "    while True:\n",
    "        jet = jet_yield.pop(0)\n",
    "        if len(jet_yield) == 0:\n",
    "            jet_yield = jets.copy()\n",
    "        # Get all falling rocks @\n",
    "        cave = move_all_rocks(cave, jet)\n",
    "        # Check if falling rock is touching ground\n",
    "        if check_if_falling_rock_is_touching_ground(cave):\n",
    "            cave[cave == '@'] = '#'\n",
    "            cave = remove_only_air_rows(cave)\n",
    "            height_deltas.append(cave.shape[0] - cave_before.shape[0])\n",
    "            break\n",
    "        else:\n",
    "            cave = move_all_rocks(cave, 'v')\n"
   ]
  },
  {
   "cell_type": "code",
   "execution_count": 159,
   "metadata": {},
   "outputs": [],
   "source": [
    "def get_pattern(seq):\n",
    "    seq2 = seq\n",
    "    outs = {}\n",
    "    l = 0\n",
    "    r = 0\n",
    "    c = None\n",
    "\n",
    "    for end in range(len(seq2)+1):\n",
    "      for start in range(end):\n",
    "          word = chr(1).join(seq2[start:end])\n",
    "          if not word in outs:\n",
    "              outs[word] = 1\n",
    "          else:\n",
    "              outs[word] += 1\n",
    "    for item in outs:\n",
    "        if outs[item] > r or (len(item) > l and outs[item] > 1):\n",
    "            l = len(item)\n",
    "            r = outs[item]\n",
    "            c = item\n",
    "    return c.split(chr(1))"
   ]
  },
  {
   "cell_type": "code",
   "execution_count": 207,
   "metadata": {},
   "outputs": [],
   "source": [
    "# Python 3 program to find the longest repeated\n",
    "# non-overlapping substring\n",
    "\n",
    "# Returns the longest repeating non-overlapping\n",
    "# substring in str\n",
    "# stolen from geeksforgeeks\n",
    "def longestRepeatedSubstring(str):\n",
    "\n",
    "\tn = len(str)\n",
    "\tLCSRe = [[0 for x in range(n + 1)]\n",
    "\t\t\t\tfor y in range(n + 1)]\n",
    "\n",
    "\tres = \"\" # To store result\n",
    "\tres_length = 0 # To store length of result\n",
    "\n",
    "\t# building table in bottom-up manner\n",
    "\tindex = 0\n",
    "\tfor i in range(1, n + 1):\n",
    "\t\tfor j in range(i + 1, n + 1):\n",
    "\t\t\t\n",
    "\t\t\t# (j-i) > LCSRe[i-1][j-1] to remove\n",
    "\t\t\t# overlapping\n",
    "\t\t\tif (str[i - 1] == str[j - 1] and\n",
    "\t\t\t\tLCSRe[i - 1][j - 1] < (j - i)):\n",
    "\t\t\t\tLCSRe[i][j] = LCSRe[i - 1][j - 1] + 1\n",
    "\n",
    "\t\t\t\t# updating maximum length of the\n",
    "\t\t\t\t# substring and updating the finishing\n",
    "\t\t\t\t# index of the suffix\n",
    "\t\t\t\tif (LCSRe[i][j] > res_length):\n",
    "\t\t\t\t\tres_length = LCSRe[i][j]\n",
    "\t\t\t\t\tindex = max(i, index)\n",
    "\t\t\t\t\tstart_i = i\n",
    "\t\t\t\t\n",
    "\t\t\telse:\n",
    "\t\t\t\tLCSRe[i][j] = 0\n",
    "\n",
    "\t# If we have non-empty result, then insert\n",
    "\t# all characters from first character to\n",
    "\t# last character of string\n",
    "\tif (res_length > 0):\n",
    "\t\tfor i in range(index - res_length + 1,\n",
    "\t\t\t\t\t\t\t\t\tindex + 1):\n",
    "\t\t\tres = res + str[i - 1]\n",
    "\n",
    "\treturn start_i-len(res), [int(x) for x in res] # Somehow, i gives the end of the pattern, so I subtract the length of the pattern to get the start.\n"
   ]
  },
  {
   "cell_type": "code",
   "execution_count": 208,
   "metadata": {},
   "outputs": [
    {
     "data": {
      "text/plain": [
       "4"
      ]
     },
     "execution_count": 208,
     "metadata": {},
     "output_type": "execute_result"
    }
   ],
   "source": [
    "max(height_deltas)"
   ]
  },
  {
   "cell_type": "code",
   "execution_count": 209,
   "metadata": {},
   "outputs": [],
   "source": [
    "idx_pattern_start, longest_pattern = longestRepeatedSubstring(''.join([str(x) for x in height_deltas]))"
   ]
  },
  {
   "cell_type": "code",
   "execution_count": 225,
   "metadata": {},
   "outputs": [
    {
     "data": {
      "text/plain": [
       "581395348"
      ]
     },
     "execution_count": 225,
     "metadata": {},
     "output_type": "execute_result"
    }
   ],
   "source": [
    "# All github copilot, nothing me.\n",
    "nr_patterns_appear = (1000000000000 - idx_pattern_start) // len(longest_pattern)\n",
    "nr_rocks_after_pattern = 1000000000000 - idx_pattern_start - nr_patterns_appear * len(longest_pattern)"
   ]
  },
  {
   "cell_type": "code",
   "execution_count": 227,
   "metadata": {},
   "outputs": [
    {
     "data": {
      "text/plain": [
       "1572093023267"
      ]
     },
     "execution_count": 227,
     "metadata": {},
     "output_type": "execute_result"
    }
   ],
   "source": [
    "# All github copilot, nothing me.\n",
    "sum(height_deltas[:idx_pattern_start]) \\\n",
    "    + sum(longest_pattern) * nr_patterns_appear \\\n",
    "        +sum(height_deltas[idx_pattern_start:idx_pattern_start+nr_rocks_after_pattern])"
   ]
  }
 ],
 "metadata": {
  "kernelspec": {
   "display_name": "Python 3",
   "language": "python",
   "name": "python3"
  },
  "language_info": {
   "codemirror_mode": {
    "name": "ipython",
    "version": 3
   },
   "file_extension": ".py",
   "mimetype": "text/x-python",
   "name": "python",
   "nbconvert_exporter": "python",
   "pygments_lexer": "ipython3",
   "version": "3.11.0"
  },
  "orig_nbformat": 4,
  "vscode": {
   "interpreter": {
    "hash": "f08d037bee00f2fee7618c7c565b4323b41a9ff8757300c85d2c53e197c8c59d"
   }
  }
 },
 "nbformat": 4,
 "nbformat_minor": 2
}
