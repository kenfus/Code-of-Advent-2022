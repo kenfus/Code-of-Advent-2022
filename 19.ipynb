{
 "cells": [
  {
   "cell_type": "code",
   "execution_count": 109,
   "metadata": {},
   "outputs": [],
   "source": [
    "import numpy as np\n",
    "import re"
   ]
  },
  {
   "cell_type": "code",
   "execution_count": 116,
   "metadata": {},
   "outputs": [],
   "source": [
    "class BluePrint:\n",
    "    def __init__(self, ore_robot_cost_ore, clay_robot_cost_ore, obsidian_robot_cost_ore, obsidian_robot_cost_clay, geode_robot_cost_ore, geode_robot_cost_obsidian):\n",
    "        self.ore_robot_cost_ore = ore_robot_cost_ore\n",
    "        self.clay_robot_cost_ore = clay_robot_cost_ore\n",
    "        self.obsidian_robot_cost_ore = obsidian_robot_cost_ore\n",
    "        self.obsidian_robot_cost_clay = obsidian_robot_cost_clay\n",
    "        self.geode_robot_cost_ore = geode_robot_cost_ore\n",
    "        self.geode_robot_cost_obsidian = geode_robot_cost_obsidian\n",
    "        \n",
    "    def return_max_ore_cost(self):\n",
    "        return max(self.ore_robot_cost_ore, self.clay_robot_cost_ore, self.obsidian_robot_cost_ore, self.geode_robot_cost_ore)\n",
    "    def print_(self):\n",
    "        print(f'Ore robot cost ore: {self.ore_robot_cost_ore}. Clay robot cost ore: {self.clay_robot_cost_ore}. Obsidian robot cost ore: {self.obsidian_robot_cost_ore}. Obsidian robot cost clay: {self.obsidian_robot_cost_clay}. Geode robot cost ore: {self.geode_robot_cost_ore}. Geode robot cost obsidian: {self.geode_robot_cost_obsidian}')\n",
    "        \n",
    "class Deposit:\n",
    "    def __init__(self, ore, clay, obsidian, geode):\n",
    "        self.ore = ore\n",
    "        self.clay = clay\n",
    "        self.obsidian = obsidian\n",
    "        self.geode = geode\n",
    "        \n",
    "    def copy(self):\n",
    "        return Deposit(self.ore, self.clay, self.obsidian, self.geode)\n",
    "        \n",
    "class Robots:\n",
    "    def __init__(self, ore, clay, obsidian, geode):\n",
    "        self.ore = ore\n",
    "        self.clay = clay\n",
    "        self.obsidian = obsidian\n",
    "        self.geode = geode\n",
    "        \n",
    "    def copy(self):\n",
    "        return Robots(self.ore, self.clay, self.obsidian, self.geode)"
   ]
  },
  {
   "cell_type": "code",
   "execution_count": 117,
   "metadata": {},
   "outputs": [],
   "source": [
    "with open('19.txt') as f:\n",
    "    lines = f.readlines()\n",
    "\n",
    "blueprints = []\n",
    "\n",
    "for line in lines:\n",
    "    match = re.search(r\"ore robot.* (\\d+) ore.*clay robot.* (\\d+) ore.*obsidian robot.* (\\d+) ore.* and (\\d+) clay.*geode robot.* (\\d+) ore.* and (\\d+) obsidian\", line)\n",
    "    ore_cost = match.group(1)\n",
    "    clay_cost = match.group(2)\n",
    "    obsidian_ore_cost = match.group(3)\n",
    "    obsidian_clay_cost = match.group(4)\n",
    "    geode_ore_cost = match.group(5)\n",
    "    geode_obsidian_cost = match.group(6)\n",
    "    blueprint = BluePrint(int(ore_cost), int(clay_cost), int(obsidian_ore_cost), int(obsidian_clay_cost), int(geode_ore_cost), int(geode_obsidian_cost))\n",
    "    blueprints.append(blueprint)"
   ]
  },
  {
   "cell_type": "code",
   "execution_count": 118,
   "metadata": {},
   "outputs": [
    {
     "name": "stdout",
     "output_type": "stream",
     "text": [
      "Ore robot cost ore: 4. Clay robot cost ore: 2. Obsidian robot cost ore: 3. Obsidian robot cost clay: 14. Geode robot cost ore: 2. Geode robot cost obsidian: 7\n"
     ]
    }
   ],
   "source": [
    "blueprints[0].print_()"
   ]
  },
  {
   "cell_type": "code",
   "execution_count": 135,
   "metadata": {},
   "outputs": [],
   "source": [
    "def mine(robot, deposit):\n",
    "        deposit.ore += robot.ore\n",
    "        deposit.clay += robot.clay\n",
    "        deposit.obsidian += robot.obsidian\n",
    "        deposit.geode += robot.geode\n",
    "        return deposit\n",
    "    \n",
    "def build(robots, deposit, which_robot):\n",
    "    if which_robot == \"ore\":\n",
    "        robots.ore += 1\n",
    "        deposit.ore -= blueprint.ore_robot_cost_ore\n",
    "    elif which_robot == \"clay\":\n",
    "        robots.clay += 1\n",
    "        deposit.ore -= blueprint.clay_robot_cost_ore\n",
    "    elif which_robot == \"obsidian\":\n",
    "        robots.obsidian += 1\n",
    "        deposit.ore -= blueprint.obsidian_robot_cost_ore\n",
    "        deposit.clay -= blueprint.obsidian_robot_cost_clay\n",
    "    elif which_robot == \"geode\":\n",
    "        robots.geode += 1\n",
    "        deposit.ore -= blueprint.geode_robot_cost_ore\n",
    "        deposit.obsidian -= blueprint.geode_robot_cost_obsidian\n",
    "    else:\n",
    "        print(\"Error: unknown robot\")\n",
    "    return robots, deposit\n",
    "\n",
    "def get_possible_options(blueprint, deposit, robots):\n",
    "    possible_options = ['wait']\n",
    "    for robot in ['ore', 'clay', 'obsidian', 'geode']:\n",
    "        if robot == 'ore':\n",
    "            if deposit.ore >= blueprint.ore_robot_cost_ore and not robots.ore >= blueprint.return_max_ore_cost():\n",
    "                possible_options.append(robot)\n",
    "        elif robot == 'clay':\n",
    "            if deposit.ore >= blueprint.clay_robot_cost_ore and not robots.clay >= blueprint.obsidian_robot_cost_clay:\n",
    "                possible_options.append(robot)\n",
    "        elif robot == 'obsidian':\n",
    "            if deposit.ore >= blueprint.obsidian_robot_cost_ore and deposit.clay >= blueprint.obsidian_robot_cost_clay and not robots.obsidian >= blueprint.geode_robot_cost_obsidian:\n",
    "                possible_options.append(robot)\n",
    "        elif robot == 'geode':\n",
    "            if deposit.ore >= blueprint.geode_robot_cost_ore and deposit.obsidian >= blueprint.geode_robot_cost_obsidian:\n",
    "                possible_options.append(robot)\n",
    "        else:\n",
    "            pass\n",
    "    return possible_options\n",
    "\n",
    "def optimize_build_pattern(robots, deposit, blueprint, possible_option, minute, max_minutes):\n",
    "    if minute > max_minutes:\n",
    "        return robots, deposit\n",
    "    if possible_option in ['ore', 'clay', 'obsidian', 'geode']:\n",
    "        robots, deposit = build(robots, deposit, possible_option)\n",
    "    possible_options = get_possible_options(blueprint, deposit, robots)\n",
    "    deposit = mine(robots, deposit)\n",
    "    \n",
    "    possible_deposits = []\n",
    "    possible_robots = []\n",
    "    for option in possible_options:\n",
    "        robots_, deposit_ = optimize_build_pattern(robots.copy(), deposit.copy(), blueprint, option, minute+1, max_minutes)\n",
    "        possible_robots.append(robots_)\n",
    "        possible_deposits.append(deposit_)\n",
    "        \n",
    "    max_idx = np.argmax([deposit.geode for deposit in possible_deposits])\n",
    "    return possible_robots[max_idx], possible_deposits[max_idx]"
   ]
  },
  {
   "cell_type": "code",
   "execution_count": 136,
   "metadata": {},
   "outputs": [
    {
     "name": "stdout",
     "output_type": "stream",
     "text": [
      "Ore robot cost ore: 4. Clay robot cost ore: 2. Obsidian robot cost ore: 3. Obsidian robot cost clay: 14. Geode robot cost ore: 2. Geode robot cost obsidian: 7\n"
     ]
    }
   ],
   "source": [
    "blueprints[0].print_()"
   ]
  },
  {
   "cell_type": "code",
   "execution_count": 154,
   "metadata": {},
   "outputs": [],
   "source": [
    "MAX_MINUTES = 24\n",
    "deposit = Deposit(0, 0, 0, 0)\n",
    "robots = Robots(1, 0, 0, 0)\n",
    "\n",
    "all_robots, all_deposits, possibilities = [], [], []\n",
    "robots, deposit = optimize_build_pattern(robots, deposit, blueprints[0], 'wait', minute=1, max_minutes=MAX_MINUTES)"
   ]
  },
  {
   "cell_type": "code",
   "execution_count": null,
   "metadata": {},
   "outputs": [
    {
     "data": {
      "text/plain": [
       "2"
      ]
     },
     "execution_count": 149,
     "metadata": {},
     "output_type": "execute_result"
    }
   ],
   "source": [
    "robots.ore"
   ]
  },
  {
   "cell_type": "code",
   "execution_count": null,
   "metadata": {},
   "outputs": [
    {
     "data": {
      "text/plain": [
       "5"
      ]
     },
     "execution_count": 150,
     "metadata": {},
     "output_type": "execute_result"
    }
   ],
   "source": [
    "robots.clay"
   ]
  },
  {
   "cell_type": "code",
   "execution_count": null,
   "metadata": {},
   "outputs": [
    {
     "data": {
      "text/plain": [
       "26"
      ]
     },
     "execution_count": 151,
     "metadata": {},
     "output_type": "execute_result"
    }
   ],
   "source": [
    "deposit.clay"
   ]
  },
  {
   "cell_type": "code",
   "execution_count": null,
   "metadata": {},
   "outputs": [
    {
     "data": {
      "text/plain": [
       "1"
      ]
     },
     "execution_count": 153,
     "metadata": {},
     "output_type": "execute_result"
    }
   ],
   "source": [
    "deposit.geode"
   ]
  },
  {
   "cell_type": "code",
   "execution_count": null,
   "metadata": {},
   "outputs": [],
   "source": []
  }
 ],
 "metadata": {
  "kernelspec": {
   "display_name": "advent_2022",
   "language": "python",
   "name": "python3"
  },
  "language_info": {
   "codemirror_mode": {
    "name": "ipython",
    "version": 3
   },
   "file_extension": ".py",
   "mimetype": "text/x-python",
   "name": "python",
   "nbconvert_exporter": "python",
   "pygments_lexer": "ipython3",
   "version": "3.11.0"
  },
  "orig_nbformat": 4,
  "vscode": {
   "interpreter": {
    "hash": "f08d037bee00f2fee7618c7c565b4323b41a9ff8757300c85d2c53e197c8c59d"
   }
  }
 },
 "nbformat": 4,
 "nbformat_minor": 2
}
