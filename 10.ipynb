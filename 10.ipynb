{
 "cells": [
  {
   "cell_type": "code",
   "execution_count": 108,
   "metadata": {},
   "outputs": [
    {
     "data": {
      "text/plain": [
       "['addx 1', 'addx 4', 'addx 1']"
      ]
     },
     "execution_count": 108,
     "metadata": {},
     "output_type": "execute_result"
    }
   ],
   "source": [
    "with open('input.txt') as f:\n",
    "    data = f.read().splitlines()\n",
    "data[:3]"
   ]
  },
  {
   "cell_type": "code",
   "execution_count": 109,
   "metadata": {},
   "outputs": [],
   "source": [
    "cycles = [20, 60, 100, 140, 180, 220]"
   ]
  },
  {
   "cell_type": "code",
   "execution_count": 112,
   "metadata": {},
   "outputs": [
    {
     "name": "stdout",
     "output_type": "stream",
     "text": [
      "cycle 20: 1\n",
      "cycle 60: 4\n",
      "cycle 100: 9\n",
      "cycle 140: 14\n",
      "cycle 180: 26\n",
      "cycle 220: 11\n"
     ]
    }
   ],
   "source": [
    "signals = [1]\n",
    "total_signals = 0\n",
    "cycle = 1\n",
    "for commands in data:\n",
    "    if commands == 'noop':\n",
    "        if cycle in cycles:\n",
    "            print(f'cycle {cycle}: {signals[-1]}')\n",
    "            signals.append(signals[-1] + int(value))\n",
    "            total_signals += signals[-1] * cycle\n",
    "        cycle += 1\n",
    "    else:\n",
    "        command, value = commands.split(' ')\n",
    "        if command == 'addx':\n",
    "            for _ in range(2):\n",
    "                if cycle in cycles:\n",
    "                    print(f'cycle {cycle}: {signals[-1]}')\n",
    "                    total_signals += signals[-1] * cycle\n",
    "                    signals.append(signals[-1] + int(value))\n",
    "                cycle += 1\n",
    "            \n",
    "                "
   ]
  },
  {
   "cell_type": "code",
   "execution_count": 113,
   "metadata": {},
   "outputs": [
    {
     "data": {
      "text/plain": [
       "10220"
      ]
     },
     "execution_count": 113,
     "metadata": {},
     "output_type": "execute_result"
    }
   ],
   "source": [
    "total_signals"
   ]
  },
  {
   "cell_type": "code",
   "execution_count": null,
   "metadata": {},
   "outputs": [],
   "source": [
    "EFUGLPAP"
   ]
  }
 ],
 "metadata": {
  "kernelspec": {
   "display_name": "Python 3.11.0 ('advent_2022')",
   "language": "python",
   "name": "python3"
  },
  "language_info": {
   "codemirror_mode": {
    "name": "ipython",
    "version": 3
   },
   "file_extension": ".py",
   "mimetype": "text/x-python",
   "name": "python",
   "nbconvert_exporter": "python",
   "pygments_lexer": "ipython3",
   "version": "3.10.8"
  },
  "orig_nbformat": 4,
  "vscode": {
   "interpreter": {
    "hash": "e9c029708d60b63ec2dc0dafc20fc347cbf6e042f572f92547f8ceac5a5b7c8b"
   }
  }
 },
 "nbformat": 4,
 "nbformat_minor": 2
}
