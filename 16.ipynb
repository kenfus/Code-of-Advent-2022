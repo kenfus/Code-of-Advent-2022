{
 "cells": [
  {
   "cell_type": "code",
   "execution_count": 103,
   "metadata": {},
   "outputs": [],
   "source": [
    "import networkx as nx\n",
    "import re"
   ]
  },
  {
   "cell_type": "code",
   "execution_count": 104,
   "metadata": {},
   "outputs": [],
   "source": [
    "G = nx.Graph()\n",
    "with open('16.txt') as f:\n",
    "    data = f.read().splitlines()\n",
    "    \n",
    "for line in data:\n",
    "    line = line.replace('valves', 'valve')\n",
    "    valve_name = line[6:8]\n",
    "    left, right = line.split('; ')\n",
    "    rest, flow_rate = left.split('=')\n",
    "    flow_rate = int(flow_rate)\n",
    "    destinations = right.split('valve ')\n",
    "    if ',' in destinations[1]:\n",
    "        destinations = destinations[1].split(', ')\n",
    "    else:\n",
    "        destinations = [destinations[1]]\n",
    "    \n",
    "    # NX\n",
    "    G.add_node(valve_name, flow_rate=flow_rate, open=False)\n",
    "    for dest in destinations:\n",
    "        G.add_edge(valve_name, dest, weight=1)\n",
    "    "
   ]
  },
  {
   "cell_type": "code",
   "execution_count": 105,
   "metadata": {},
   "outputs": [],
   "source": [
    "from functools import lru_cache\n",
    "import itertools\n",
    "\n",
    "@lru_cache\n",
    "def get_shortest_path(G, start, end):\n",
    "    return nx.shortest_path(G, start, end)"
   ]
  },
  {
   "cell_type": "code",
   "execution_count": 106,
   "metadata": {},
   "outputs": [],
   "source": [
    "class PressureFlow:\n",
    "    def __init__(self, verbose=False):\n",
    "        self.flow_rate = 0\n",
    "        self.released_pressure = 0\n",
    "        self.passed_minutes = 0\n",
    "        self.path = []\n",
    "    def increase_flow(self, amount):\n",
    "        self.timestep()\n",
    "        self.flow_rate += amount\n",
    "    def timestep(self):\n",
    "        self.released_pressure += self.flow_rate\n",
    "        self.passed_minutes += 1\n",
    "    def copy(self):\n",
    "        pf = PressureFlow()\n",
    "        pf.path = self.path.copy()\n",
    "        pf.flow_rate = self.flow_rate\n",
    "        pf.released_pressure = self.released_pressure\n",
    "        pf.passed_minutes = self.passed_minutes\n",
    "        return pf"
   ]
  },
  {
   "cell_type": "code",
   "execution_count": 107,
   "metadata": {},
   "outputs": [],
   "source": [
    "max_minutes = 26\n",
    "\n",
    "from tqdm import tqdm\n",
    "from math import factorial\n",
    "import copy\n",
    "\n",
    "\n",
    "def move_and_maybe_open(G, flow: PressureFlow, current_node, node):\n",
    "    shortest_path = get_shortest_path(G, current_node, node)\n",
    "    for _ in range(len(shortest_path)-1):\n",
    "        flow.timestep()\n",
    "        if flow.passed_minutes >= max_minutes:\n",
    "            return G, flow\n",
    "    if not flow.passed_minutes >= max_minutes:\n",
    "        open_node(G, flow, node)\n",
    "    return G, flow\n",
    "\n",
    "def open_node(G, flow: PressureFlow, node):\n",
    "    # Open node if smart\n",
    "    if (G.nodes[node]['flow_rate'] > 0) and not G.nodes[node]['open']:\n",
    "        flow.increase_flow(G.nodes[node][\"flow_rate\"])\n",
    "        G.nodes[node]['open'] = True\n",
    "        \n",
    "def calculate_potential(G, flow: PressureFlow, current_node, node):\n",
    "    # Calculate potential\n",
    "    if G.nodes[node]['open']:\n",
    "        return 0\n",
    "    shortest_path = get_shortest_path(G, current_node, node)\n",
    "    potential_flow = (max_minutes - flow.passed_minutes - (len(shortest_path) - 1) - 1) * G.nodes[node]['flow_rate']\n",
    "    return potential_flow\n",
    "\n",
    "def get_best_opening_combination(G, flow, starting_node, depth=0):\n",
    "    global best_flows\n",
    "    possible_nodes = [x for x in G.nodes if calculate_potential(G, flow, starting_node, x) > 0]\n",
    "    max_flow = None\n",
    "    if len(possible_nodes) == 0 or flow.passed_minutes >= max_minutes:\n",
    "        while flow.passed_minutes < max_minutes:\n",
    "            flow.timestep()\n",
    "        max_flow = flow\n",
    "        best_flows.append(max_flow)\n",
    "    else:\n",
    "        if not max_flow:\n",
    "            possible_next_nodes = []\n",
    "            for node in possible_nodes:\n",
    "                flow_ = flow.copy()\n",
    "                flow_.path.append(node)\n",
    "                G_, flow_ = move_and_maybe_open(G.copy(), flow_, starting_node, node)\n",
    "                possible_next_nodes.append(get_best_opening_combination(G_, flow_, node, depth+1))\n",
    "            max_flow = max([x.released_pressure for x in possible_next_nodes])\n",
    "            max_flow = [x for x in possible_next_nodes if x.released_pressure == max_flow][0]\n",
    "            best_flows.append(max_flow)\n",
    "    return max_flow\n"
   ]
  },
  {
   "cell_type": "code",
   "execution_count": 108,
   "metadata": {},
   "outputs": [],
   "source": [
    "flow = PressureFlow()\n",
    "best_flows = []\n",
    "max_flow = get_best_opening_combination(G.copy(), flow, 'AA')"
   ]
  },
  {
   "cell_type": "code",
   "execution_count": 109,
   "metadata": {},
   "outputs": [
    {
     "data": {
      "text/plain": [
       "42004"
      ]
     },
     "execution_count": 109,
     "metadata": {},
     "output_type": "execute_result"
    }
   ],
   "source": [
    "len(best_flows)"
   ]
  },
  {
   "cell_type": "code",
   "execution_count": 110,
   "metadata": {},
   "outputs": [],
   "source": [
    "max_flow = max([x.released_pressure for x in best_flows])\n",
    "best_flow = [x for x in best_flows if x.released_pressure ==  max_flow ][0]"
   ]
  },
  {
   "cell_type": "code",
   "execution_count": 111,
   "metadata": {},
   "outputs": [
    {
     "name": "stdout",
     "output_type": "stream",
     "text": [
      "Max flow: 1669. Path: ['KQ', 'RF', 'AZ', 'VI', 'IM', 'IY', 'AQ']\n"
     ]
    }
   ],
   "source": [
    "print(f'Max flow: {max_flow}. Path: {best_flow.path}')"
   ]
  },
  {
   "cell_type": "code",
   "execution_count": 112,
   "metadata": {},
   "outputs": [],
   "source": [
    "a = set([1,2,3])\n",
    "b = set([4,5])"
   ]
  },
  {
   "cell_type": "code",
   "execution_count": 113,
   "metadata": {},
   "outputs": [],
   "source": [
    "if a&b:\n",
    "    print('yes')"
   ]
  },
  {
   "cell_type": "code",
   "execution_count": 114,
   "metadata": {},
   "outputs": [
    {
     "name": "stderr",
     "output_type": "stream",
     "text": [
      "  0%|          | 0/42004 [00:00<?, ?it/s]"
     ]
    },
    {
     "name": "stdout",
     "output_type": "stream",
     "text": [
      "Flow 1: 546 - ['LS', 'IY', 'VI', 'AZ', 'HA']\n",
      "Flow 2: 529 - ['YC', 'QK', 'IM', 'AQ']\n",
      "Flow 1: 546 - ['LS', 'IY', 'VI', 'AZ', 'HA']\n",
      "Flow 2: 562 - ['YC', 'QK', 'KZ', 'IM', 'AQ']\n",
      "Flow 1: 546 - ['LS', 'IY', 'VI', 'AZ', 'HA']\n",
      "Flow 2: 578 - ['YC', 'QK', 'KZ', 'AQ', 'IM']\n",
      "Flow 1: 546 - ['LS', 'IY', 'VI', 'AZ', 'HA']\n",
      "Flow 2: 648 - ['YC', 'QK', 'KZ', 'HC', 'ZJ']\n",
      "Flow 1: 546 - ['LS', 'IY', 'VI', 'AZ', 'HA']\n",
      "Flow 2: 711 - ['YC', 'QK', 'KZ', 'HC', 'AI']\n",
      "Flow 1: 546 - ['LS', 'IY', 'VI', 'AZ', 'HA']\n",
      "Flow 2: 773 - ['YC', 'QK', 'KZ', 'RF', 'KQ', 'ZJ']\n",
      "Flow 1: 546 - ['LS', 'IY', 'VI', 'AZ', 'HA']\n",
      "Flow 2: 886 - ['YC', 'QK', 'HC', 'AI', 'KZ']\n",
      "Flow 1: 546 - ['LS', 'IY', 'VI', 'AZ', 'HA']\n",
      "Flow 2: 893 - ['YC', 'QK', 'HC', 'AI', 'ZJ']\n",
      "Flow 1: 546 - ['LS', 'IY', 'VI', 'AZ', 'HA']\n",
      "Flow 2: 898 - ['YC', 'QK', 'AI', 'HC', 'ZJ']\n",
      "Flow 1: 546 - ['LS', 'IY', 'VI', 'AZ', 'HA']\n",
      "Flow 2: 904 - ['YC', 'HC', 'QK', 'KZ', 'KQ', 'RF']\n",
      "Flow 1: 546 - ['LS', 'IY', 'VI', 'AZ', 'HA']\n",
      "Flow 2: 943 - ['YC', 'HC', 'QK', 'KZ', 'RF', 'KQ']\n",
      "Flow 1: 546 - ['LS', 'IY', 'VI', 'AZ', 'HA']\n",
      "Flow 2: 956 - ['YC', 'HC', 'QK', 'AI', 'KZ']\n",
      "Flow 1: 546 - ['LS', 'IY', 'VI', 'AZ', 'HA']\n",
      "Flow 2: 963 - ['YC', 'HC', 'QK', 'AI', 'ZJ']\n",
      "Flow 1: 546 - ['LS', 'IY', 'VI', 'AZ', 'HA']\n",
      "Flow 2: 1057 - ['YC', 'HC', 'AI', 'QK', 'KZ', 'ZJ']\n",
      "Flow 1: 546 - ['LS', 'IY', 'VI', 'AZ', 'HA']\n",
      "Flow 2: 1069 - ['YC', 'HC', 'AI', 'QK', 'KZ', 'RF']\n",
      "Flow 1: 546 - ['LS', 'IY', 'VI', 'AZ', 'HA']\n",
      "Flow 2: 1077 - ['YC', 'HC', 'AI', 'QK', 'KQ']\n",
      "Flow 1: 546 - ['LS', 'IY', 'VI', 'AZ', 'HA']\n",
      "Flow 2: 1082 - ['YC', 'AI', 'HC', 'QK', 'KQ']\n",
      "Flow 1: 546 - ['LS', 'IY', 'VI', 'AZ', 'HA']\n",
      "Flow 2: 1149 - ['QK', 'YC', 'HC', 'AI', 'KZ', 'ZJ']\n",
      "Flow 1: 546 - ['LS', 'IY', 'VI', 'AZ', 'HA']\n",
      "Flow 2: 1161 - ['QK', 'YC', 'HC', 'AI', 'KZ', 'RF']\n",
      "Flow 1: 546 - ['LS', 'IY', 'VI', 'AZ', 'HA']\n",
      "Flow 2: 1169 - ['QK', 'YC', 'HC', 'AI', 'KQ']\n",
      "Flow 1: 546 - ['LS', 'IY', 'VI', 'AZ', 'HA']\n",
      "Flow 2: 1171 - ['QK', 'YC', 'HC', 'AI', 'ZJ', 'KQ']\n",
      "Flow 1: 546 - ['LS', 'IY', 'VI', 'AZ', 'HA']\n",
      "Flow 2: 1174 - ['QK', 'YC', 'AI', 'HC', 'KQ']\n",
      "Flow 1: 546 - ['LS', 'IY', 'VI', 'AZ', 'HA']\n",
      "Flow 2: 1176 - ['QK', 'YC', 'AI', 'HC', 'ZJ', 'KQ']\n",
      "Flow 1: 546 - ['LS', 'IY', 'VI', 'AZ', 'HA']\n",
      "Flow 2: 1180 - ['KQ', 'QK', 'YC', 'AI', 'HC', 'ZJ']\n",
      "Flow 1: 546 - ['LS', 'IY', 'VI', 'AZ', 'HA']\n",
      "Flow 2: 1183 - ['KQ', 'RF', 'KZ', 'QK', 'YC', 'AI', 'HC']\n",
      "Flow 1: 558 - ['LS', 'IY', 'VI', 'AZ', 'RF']\n",
      "Flow 2: 1174 - ['QK', 'YC', 'AI', 'HC', 'KQ']\n",
      "Flow 1: 558 - ['LS', 'IY', 'VI', 'AZ', 'RF']\n",
      "Flow 2: 1176 - ['QK', 'YC', 'AI', 'HC', 'ZJ', 'KQ']\n",
      "Flow 1: 558 - ['LS', 'IY', 'VI', 'AZ', 'RF']\n",
      "Flow 2: 1180 - ['KQ', 'QK', 'YC', 'AI', 'HC', 'ZJ']\n"
     ]
    },
    {
     "name": "stderr",
     "output_type": "stream",
     "text": [
      "  0%|          | 4/42004 [00:00<20:17, 34.50it/s]"
     ]
    },
    {
     "name": "stdout",
     "output_type": "stream",
     "text": [
      "Flow 1: 498 - ['LS', 'IY', 'VI', 'IM']\n",
      "Flow 2: 1311 - ['KQ', 'RF', 'AZ', 'AQ', 'KZ']\n"
     ]
    },
    {
     "name": "stderr",
     "output_type": "stream",
     "text": [
      "  0%|          | 25/42004 [00:00<14:47, 47.29it/s]"
     ]
    },
    {
     "name": "stdout",
     "output_type": "stream",
     "text": [
      "Flow 1: 436 - ['LS', 'IY', 'AZ', 'QK']\n",
      "Flow 2: 1405 - ['KQ', 'RF', 'VI', 'IM', 'AQ', 'HA']\n",
      "Flow 1: 441 - ['LS', 'IY', 'AZ', 'KZ']\n",
      "Flow 2: 1405 - ['KQ', 'RF', 'VI', 'IM', 'AQ', 'HA']\n"
     ]
    },
    {
     "name": "stderr",
     "output_type": "stream",
     "text": [
      "  0%|          | 40/42004 [00:00<14:47, 47.30it/s]"
     ]
    },
    {
     "name": "stdout",
     "output_type": "stream",
     "text": [
      "Flow 1: 266 - ['LS', 'IY', 'QK']\n",
      "Flow 2: 1649 - ['KQ', 'RF', 'AZ', 'VI', 'IM', 'AQ', 'HA']\n",
      "Flow 1: 556 - ['LS', 'IY', 'IM', 'AQ', 'HA']\n",
      "Flow 2: 1369 - ['KQ', 'RF', 'AZ', 'VI', 'QK']\n",
      "Flow 1: 556 - ['LS', 'IY', 'IM', 'AQ', 'HA']\n",
      "Flow 2: 1384 - ['KQ', 'RF', 'AZ', 'VI', 'KZ', 'QK']\n"
     ]
    },
    {
     "name": "stderr",
     "output_type": "stream",
     "text": [
      "  0%|          | 61/42004 [00:01<14:53, 46.95it/s]"
     ]
    },
    {
     "name": "stdout",
     "output_type": "stream",
     "text": [
      "Flow 1: 560 - ['LS', 'IY', 'AQ', 'IM', 'HA']\n",
      "Flow 2: 1384 - ['KQ', 'RF', 'AZ', 'VI', 'KZ', 'QK']\n",
      "Flow 1: 563 - ['LS', 'IY', 'AQ', 'HA', 'IM']\n",
      "Flow 2: 1384 - ['KQ', 'RF', 'AZ', 'VI', 'KZ', 'QK']\n"
     ]
    },
    {
     "name": "stderr",
     "output_type": "stream",
     "text": [
      "  0%|          | 143/42004 [00:03<14:14, 48.99it/s]"
     ]
    },
    {
     "name": "stdout",
     "output_type": "stream",
     "text": [
      "Flow 1: 350 - ['LS', 'VI', 'QK']\n",
      "Flow 2: 1612 - ['KQ', 'RF', 'AZ', 'IY', 'IM', 'AQ', 'HA']\n",
      "Flow 1: 350 - ['LS', 'VI', 'QK']\n",
      "Flow 2: 1616 - ['KQ', 'RF', 'AZ', 'IY', 'AQ', 'IM', 'HA']\n",
      "Flow 1: 350 - ['LS', 'VI', 'QK']\n",
      "Flow 2: 1619 - ['KQ', 'RF', 'AZ', 'IY', 'AQ', 'HA', 'IM']\n",
      "Flow 1: 350 - ['LS', 'VI', 'QK']\n",
      "Flow 2: 1620 - ['KQ', 'RF', 'AZ', 'HA', 'AQ', 'IY', 'IM']\n"
     ]
    },
    {
     "name": "stderr",
     "output_type": "stream",
     "text": [
      "  0%|          | 160/42004 [00:03<14:00, 49.80it/s]"
     ]
    },
    {
     "name": "stdout",
     "output_type": "stream",
     "text": [
      "Flow 1: 360 - ['LS', 'VI', 'KZ', 'QK']\n",
      "Flow 2: 1612 - ['KQ', 'RF', 'AZ', 'IY', 'IM', 'AQ', 'HA']\n",
      "Flow 1: 360 - ['LS', 'VI', 'KZ', 'QK']\n",
      "Flow 2: 1616 - ['KQ', 'RF', 'AZ', 'IY', 'AQ', 'IM', 'HA']\n",
      "Flow 1: 360 - ['LS', 'VI', 'KZ', 'QK']\n",
      "Flow 2: 1619 - ['KQ', 'RF', 'AZ', 'IY', 'AQ', 'HA', 'IM']\n",
      "Flow 1: 360 - ['LS', 'VI', 'KZ', 'QK']\n",
      "Flow 2: 1620 - ['KQ', 'RF', 'AZ', 'HA', 'AQ', 'IY', 'IM']\n"
     ]
    },
    {
     "name": "stderr",
     "output_type": "stream",
     "text": [
      "  1%|          | 229/42004 [00:04<14:41, 47.40it/s]"
     ]
    },
    {
     "name": "stdout",
     "output_type": "stream",
     "text": [
      "Flow 1: 804 - ['LS', 'AZ', 'VI', 'IM', 'IY', 'AQ']\n",
      "Flow 2: 1180 - ['KQ', 'QK', 'YC', 'AI', 'HC', 'ZJ']\n",
      "Flow 1: 804 - ['LS', 'AZ', 'VI', 'IM', 'IY', 'AQ']\n",
      "Flow 2: 1183 - ['KQ', 'RF', 'KZ', 'QK', 'YC', 'AI', 'HC']\n"
     ]
    },
    {
     "name": "stderr",
     "output_type": "stream",
     "text": [
      "  1%|          | 419/42004 [00:08<13:10, 52.61it/s]"
     ]
    },
    {
     "name": "stdout",
     "output_type": "stream",
     "text": [
      "Flow 1: 385 - ['LS', 'YC', 'QK', 'IY']\n",
      "Flow 2: 1649 - ['KQ', 'RF', 'AZ', 'VI', 'IM', 'AQ', 'HA']\n",
      "Flow 1: 420 - ['LS', 'YC', 'QK', 'KZ', 'IY']\n",
      "Flow 2: 1649 - ['KQ', 'RF', 'AZ', 'VI', 'IM', 'AQ', 'HA']\n"
     ]
    },
    {
     "name": "stderr",
     "output_type": "stream",
     "text": [
      "  1%|          | 431/42004 [00:08<13:49, 50.12it/s]"
     ]
    },
    {
     "name": "stdout",
     "output_type": "stream",
     "text": [
      "Flow 1: 462 - ['LS', 'YC', 'QK', 'KZ', 'HC']\n",
      "Flow 2: 1612 - ['KQ', 'RF', 'AZ', 'IY', 'IM', 'AQ', 'HA']\n",
      "Flow 1: 462 - ['LS', 'YC', 'QK', 'KZ', 'HC']\n",
      "Flow 2: 1636 - ['KQ', 'RF', 'AZ', 'IY', 'AQ', 'IM', 'VI']\n",
      "Flow 1: 462 - ['LS', 'YC', 'QK', 'KZ', 'HC']\n",
      "Flow 2: 1650 - ['KQ', 'RF', 'AZ', 'VI', 'IY', 'AQ', 'IM']\n",
      "Flow 1: 462 - ['LS', 'YC', 'QK', 'KZ', 'HC']\n",
      "Flow 2: 1669 - ['KQ', 'RF', 'AZ', 'VI', 'IM', 'IY', 'AQ']\n"
     ]
    },
    {
     "name": "stderr",
     "output_type": "stream",
     "text": [
      "  1%|          | 442/42004 [00:09<14:20, 48.30it/s]"
     ]
    },
    {
     "name": "stdout",
     "output_type": "stream",
     "text": [
      "Flow 1: 465 - ['LS', 'YC', 'QK', 'KZ', 'AI']\n",
      "Flow 2: 1669 - ['KQ', 'RF', 'AZ', 'VI', 'IM', 'IY', 'AQ']\n",
      "Flow 1: 537 - ['LS', 'YC', 'QK', 'HC', 'KZ']\n",
      "Flow 2: 1612 - ['KQ', 'RF', 'AZ', 'IY', 'IM', 'AQ', 'HA']\n",
      "Flow 1: 537 - ['LS', 'YC', 'QK', 'HC', 'KZ']\n",
      "Flow 2: 1636 - ['KQ', 'RF', 'AZ', 'IY', 'AQ', 'IM', 'VI']\n",
      "Flow 1: 537 - ['LS', 'YC', 'QK', 'HC', 'KZ']\n",
      "Flow 2: 1650 - ['KQ', 'RF', 'AZ', 'VI', 'IY', 'AQ', 'IM']\n",
      "Flow 1: 537 - ['LS', 'YC', 'QK', 'HC', 'KZ']\n",
      "Flow 2: 1669 - ['KQ', 'RF', 'AZ', 'VI', 'IM', 'IY', 'AQ']\n",
      "Flow 1: 544 - ['LS', 'YC', 'QK', 'HC', 'ZJ']\n",
      "Flow 2: 1669 - ['KQ', 'RF', 'AZ', 'VI', 'IM', 'IY', 'AQ']\n",
      "Flow 1: 607 - ['LS', 'YC', 'QK', 'HC', 'AI']\n",
      "Flow 2: 1612 - ['KQ', 'RF', 'AZ', 'IY', 'IM', 'AQ', 'HA']\n",
      "Flow 1: 607 - ['LS', 'YC', 'QK', 'HC', 'AI']\n",
      "Flow 2: 1636 - ['KQ', 'RF', 'AZ', 'IY', 'AQ', 'IM', 'VI']\n",
      "Flow 1: 607 - ['LS', 'YC', 'QK', 'HC', 'AI']\n",
      "Flow 2: 1650 - ['KQ', 'RF', 'AZ', 'VI', 'IY', 'AQ', 'IM']\n",
      "Flow 1: 607 - ['LS', 'YC', 'QK', 'HC', 'AI']\n",
      "Flow 2: 1669 - ['KQ', 'RF', 'AZ', 'VI', 'IM', 'IY', 'AQ']\n"
     ]
    },
    {
     "name": "stderr",
     "output_type": "stream",
     "text": [
      "  1%|          | 478/42004 [00:09<13:41, 50.52it/s]"
     ]
    },
    {
     "name": "stdout",
     "output_type": "stream",
     "text": [
      "Flow 1: 612 - ['LS', 'YC', 'QK', 'AI', 'HC']\n",
      "Flow 2: 1669 - ['KQ', 'RF', 'AZ', 'VI', 'IM', 'IY', 'AQ']\n"
     ]
    },
    {
     "name": "stderr",
     "output_type": "stream",
     "text": [
      "  1%|          | 525/42004 [00:10<13:52, 49.81it/s]"
     ]
    },
    {
     "name": "stdout",
     "output_type": "stream",
     "text": [
      "Flow 1: 633 - ['LS', 'YC', 'HC', 'QK', 'KZ', 'ZJ']\n",
      "Flow 2: 1650 - ['KQ', 'RF', 'AZ', 'VI', 'IY', 'AQ', 'IM']\n",
      "Flow 1: 633 - ['LS', 'YC', 'HC', 'QK', 'KZ', 'ZJ']\n",
      "Flow 2: 1669 - ['KQ', 'RF', 'AZ', 'VI', 'IM', 'IY', 'AQ']\n",
      "Flow 1: 637 - ['LS', 'YC', 'HC', 'QK', 'ZJ', 'KZ']\n",
      "Flow 2: 1669 - ['KQ', 'RF', 'AZ', 'VI', 'IM', 'IY', 'AQ']\n",
      "Flow 1: 677 - ['LS', 'YC', 'HC', 'QK', 'AI']\n",
      "Flow 2: 1636 - ['KQ', 'RF', 'AZ', 'IY', 'AQ', 'IM', 'VI']\n",
      "Flow 1: 677 - ['LS', 'YC', 'HC', 'QK', 'AI']\n",
      "Flow 2: 1650 - ['KQ', 'RF', 'AZ', 'VI', 'IY', 'AQ', 'IM']\n",
      "Flow 1: 677 - ['LS', 'YC', 'HC', 'QK', 'AI']\n",
      "Flow 2: 1669 - ['KQ', 'RF', 'AZ', 'VI', 'IM', 'IY', 'AQ']\n"
     ]
    },
    {
     "name": "stderr",
     "output_type": "stream",
     "text": [
      "  1%|▏         | 547/42004 [00:11<13:50, 49.91it/s]"
     ]
    },
    {
     "name": "stdout",
     "output_type": "stream",
     "text": [
      "Flow 1: 752 - ['LS', 'YC', 'HC', 'AI', 'QK']\n",
      "Flow 2: 1612 - ['KQ', 'RF', 'AZ', 'IY', 'IM', 'AQ', 'HA']\n",
      "Flow 1: 752 - ['LS', 'YC', 'HC', 'AI', 'QK']\n",
      "Flow 2: 1636 - ['KQ', 'RF', 'AZ', 'IY', 'AQ', 'IM', 'VI']\n",
      "Flow 1: 752 - ['LS', 'YC', 'HC', 'AI', 'QK']\n",
      "Flow 2: 1650 - ['KQ', 'RF', 'AZ', 'VI', 'IY', 'AQ', 'IM']\n",
      "Flow 1: 752 - ['LS', 'YC', 'HC', 'AI', 'QK']\n",
      "Flow 2: 1669 - ['KQ', 'RF', 'AZ', 'VI', 'IM', 'IY', 'AQ']\n"
     ]
    },
    {
     "name": "stderr",
     "output_type": "stream",
     "text": [
      "  2%|▏         | 637/42004 [00:12<13:48, 49.91it/s]"
     ]
    },
    {
     "name": "stdout",
     "output_type": "stream",
     "text": [
      "Flow 1: 757 - ['LS', 'YC', 'AI', 'HC', 'QK']\n",
      "Flow 2: 1669 - ['KQ', 'RF', 'AZ', 'VI', 'IM', 'IY', 'AQ']\n"
     ]
    },
    {
     "name": "stderr",
     "output_type": "stream",
     "text": [
      "  2%|▏         | 769/42004 [00:15<14:00, 49.05it/s]"
     ]
    },
    {
     "name": "stdout",
     "output_type": "stream",
     "text": [
      "Flow 1: 850 - ['LS', 'QK', 'YC', 'HC', 'AI', 'ZJ']\n",
      "Flow 2: 1594 - ['KQ', 'RF', 'AZ', 'IY', 'IM', 'VI', 'HA']\n",
      "Flow 1: 850 - ['LS', 'QK', 'YC', 'HC', 'AI', 'ZJ']\n",
      "Flow 2: 1612 - ['KQ', 'RF', 'AZ', 'IY', 'IM', 'AQ', 'HA']\n",
      "Flow 1: 850 - ['LS', 'QK', 'YC', 'HC', 'AI', 'ZJ']\n",
      "Flow 2: 1636 - ['KQ', 'RF', 'AZ', 'IY', 'AQ', 'IM', 'VI']\n",
      "Flow 1: 850 - ['LS', 'QK', 'YC', 'HC', 'AI', 'ZJ']\n",
      "Flow 2: 1650 - ['KQ', 'RF', 'AZ', 'VI', 'IY', 'AQ', 'IM']\n",
      "Flow 1: 850 - ['LS', 'QK', 'YC', 'HC', 'AI', 'ZJ']\n",
      "Flow 2: 1669 - ['KQ', 'RF', 'AZ', 'VI', 'IM', 'IY', 'AQ']\n"
     ]
    },
    {
     "name": "stderr",
     "output_type": "stream",
     "text": [
      "  2%|▏         | 805/42004 [00:16<14:03, 48.83it/s]"
     ]
    },
    {
     "name": "stdout",
     "output_type": "stream",
     "text": [
      "Flow 1: 855 - ['LS', 'QK', 'YC', 'AI', 'HC', 'ZJ']\n",
      "Flow 2: 1669 - ['KQ', 'RF', 'AZ', 'VI', 'IM', 'IY', 'AQ']\n"
     ]
    },
    {
     "name": "stderr",
     "output_type": "stream",
     "text": [
      " 19%|█▊        | 7816/42004 [02:37<11:23, 49.98it/s]"
     ]
    },
    {
     "name": "stdout",
     "output_type": "stream",
     "text": [
      "Flow 1: 886 - ['YC', 'QK', 'HC', 'AI', 'KZ']\n",
      "Flow 2: 1650 - ['KQ', 'RF', 'AZ', 'VI', 'IY', 'AQ', 'IM']\n",
      "Flow 1: 886 - ['YC', 'QK', 'HC', 'AI', 'KZ']\n",
      "Flow 2: 1669 - ['KQ', 'RF', 'AZ', 'VI', 'IM', 'IY', 'AQ']\n",
      "Flow 1: 893 - ['YC', 'QK', 'HC', 'AI', 'ZJ']\n",
      "Flow 2: 1669 - ['KQ', 'RF', 'AZ', 'VI', 'IM', 'IY', 'AQ']\n"
     ]
    },
    {
     "name": "stderr",
     "output_type": "stream",
     "text": [
      " 19%|█▉        | 8148/42004 [02:44<11:20, 49.79it/s]"
     ]
    },
    {
     "name": "stdout",
     "output_type": "stream",
     "text": [
      "Flow 1: 898 - ['YC', 'QK', 'AI', 'HC', 'ZJ']\n",
      "Flow 2: 1669 - ['KQ', 'RF', 'AZ', 'VI', 'IM', 'IY', 'AQ']\n"
     ]
    },
    {
     "name": "stderr",
     "output_type": "stream",
     "text": [
      " 21%|██        | 8684/42004 [02:54<11:31, 48.18it/s]"
     ]
    },
    {
     "name": "stdout",
     "output_type": "stream",
     "text": [
      "Flow 1: 911 - ['YC', 'HC', 'QK', 'ZJ', 'AI']\n",
      "Flow 2: 1669 - ['KQ', 'RF', 'AZ', 'VI', 'IM', 'IY', 'AQ']\n"
     ]
    },
    {
     "name": "stderr",
     "output_type": "stream",
     "text": [
      " 21%|██        | 8694/42004 [02:55<11:26, 48.50it/s]"
     ]
    },
    {
     "name": "stdout",
     "output_type": "stream",
     "text": [
      "Flow 1: 956 - ['YC', 'HC', 'QK', 'AI', 'KZ']\n",
      "Flow 2: 1636 - ['KQ', 'RF', 'AZ', 'IY', 'AQ', 'IM', 'VI']\n",
      "Flow 1: 956 - ['YC', 'HC', 'QK', 'AI', 'KZ']\n",
      "Flow 2: 1650 - ['KQ', 'RF', 'AZ', 'VI', 'IY', 'AQ', 'IM']\n",
      "Flow 1: 956 - ['YC', 'HC', 'QK', 'AI', 'KZ']\n",
      "Flow 2: 1669 - ['KQ', 'RF', 'AZ', 'VI', 'IM', 'IY', 'AQ']\n",
      "Flow 1: 963 - ['YC', 'HC', 'QK', 'AI', 'ZJ']\n",
      "Flow 2: 1669 - ['KQ', 'RF', 'AZ', 'VI', 'IM', 'IY', 'AQ']\n"
     ]
    },
    {
     "name": "stderr",
     "output_type": "stream",
     "text": [
      " 21%|██        | 8841/42004 [02:58<10:49, 51.06it/s]"
     ]
    },
    {
     "name": "stdout",
     "output_type": "stream",
     "text": [
      "Flow 1: 971 - ['YC', 'HC', 'AI', 'LS', 'QK']\n",
      "Flow 2: 1669 - ['KQ', 'RF', 'AZ', 'VI', 'IM', 'IY', 'AQ']\n",
      "Flow 1: 1043 - ['YC', 'HC', 'AI', 'QK', 'LS', 'KZ']\n",
      "Flow 2: 1612 - ['KQ', 'RF', 'AZ', 'IY', 'IM', 'AQ', 'HA']\n",
      "Flow 1: 1043 - ['YC', 'HC', 'AI', 'QK', 'LS', 'KZ']\n",
      "Flow 2: 1636 - ['KQ', 'RF', 'AZ', 'IY', 'AQ', 'IM', 'VI']\n",
      "Flow 1: 1043 - ['YC', 'HC', 'AI', 'QK', 'LS', 'KZ']\n",
      "Flow 2: 1650 - ['KQ', 'RF', 'AZ', 'VI', 'IY', 'AQ', 'IM']\n",
      "Flow 1: 1043 - ['YC', 'HC', 'AI', 'QK', 'LS', 'KZ']\n",
      "Flow 2: 1669 - ['KQ', 'RF', 'AZ', 'VI', 'IM', 'IY', 'AQ']\n",
      "Flow 1: 1057 - ['YC', 'HC', 'AI', 'QK', 'KZ', 'LS']\n",
      "Flow 2: 1669 - ['KQ', 'RF', 'AZ', 'VI', 'IM', 'IY', 'AQ']\n"
     ]
    },
    {
     "name": "stderr",
     "output_type": "stream",
     "text": [
      " 21%|██        | 8858/42004 [02:58<11:12, 49.26it/s]"
     ]
    },
    {
     "name": "stdout",
     "output_type": "stream",
     "text": [
      "Flow 1: 1059 - ['YC', 'HC', 'AI', 'QK', 'ZJ', 'LS']\n",
      "Flow 2: 1669 - ['KQ', 'RF', 'AZ', 'VI', 'IM', 'IY', 'AQ']\n",
      "Flow 1: 1061 - ['YC', 'HC', 'AI', 'QK', 'ZJ', 'KZ']\n",
      "Flow 2: 1669 - ['KQ', 'RF', 'AZ', 'VI', 'IM', 'IY', 'AQ']\n"
     ]
    },
    {
     "name": "stderr",
     "output_type": "stream",
     "text": [
      " 24%|██▎       | 9889/42004 [03:18<10:50, 49.39it/s]"
     ]
    },
    {
     "name": "stdout",
     "output_type": "stream",
     "text": [
      "Flow 1: 1062 - ['YC', 'AI', 'HC', 'QK', 'KZ', 'LS']\n",
      "Flow 2: 1669 - ['KQ', 'RF', 'AZ', 'VI', 'IM', 'IY', 'AQ']\n",
      "Flow 1: 1064 - ['YC', 'AI', 'HC', 'QK', 'ZJ', 'LS']\n",
      "Flow 2: 1669 - ['KQ', 'RF', 'AZ', 'VI', 'IM', 'IY', 'AQ']\n",
      "Flow 1: 1066 - ['YC', 'AI', 'HC', 'QK', 'ZJ', 'KZ']\n",
      "Flow 2: 1669 - ['KQ', 'RF', 'AZ', 'VI', 'IM', 'IY', 'AQ']\n"
     ]
    },
    {
     "name": "stderr",
     "output_type": "stream",
     "text": [
      " 29%|██▊       | 12038/42004 [04:02<10:12, 48.89it/s]"
     ]
    },
    {
     "name": "stdout",
     "output_type": "stream",
     "text": [
      "Flow 1: 1135 - ['QK', 'YC', 'HC', 'AI', 'LS', 'KZ']\n",
      "Flow 2: 1612 - ['KQ', 'RF', 'AZ', 'IY', 'IM', 'AQ', 'HA']\n",
      "Flow 1: 1135 - ['QK', 'YC', 'HC', 'AI', 'LS', 'KZ']\n",
      "Flow 2: 1636 - ['KQ', 'RF', 'AZ', 'IY', 'AQ', 'IM', 'VI']\n",
      "Flow 1: 1135 - ['QK', 'YC', 'HC', 'AI', 'LS', 'KZ']\n",
      "Flow 2: 1650 - ['KQ', 'RF', 'AZ', 'VI', 'IY', 'AQ', 'IM']\n",
      "Flow 1: 1135 - ['QK', 'YC', 'HC', 'AI', 'LS', 'KZ']\n",
      "Flow 2: 1669 - ['KQ', 'RF', 'AZ', 'VI', 'IM', 'IY', 'AQ']\n",
      "Flow 1: 1149 - ['QK', 'YC', 'HC', 'AI', 'KZ', 'LS']\n",
      "Flow 2: 1669 - ['KQ', 'RF', 'AZ', 'VI', 'IM', 'IY', 'AQ']\n",
      "Flow 1: 1160 - ['QK', 'YC', 'HC', 'AI', 'ZJ', 'LS']\n",
      "Flow 2: 1669 - ['KQ', 'RF', 'AZ', 'VI', 'IM', 'IY', 'AQ']\n",
      "Flow 1: 1164 - ['QK', 'YC', 'HC', 'AI', 'ZJ', 'KZ']\n",
      "Flow 2: 1669 - ['KQ', 'RF', 'AZ', 'VI', 'IM', 'IY', 'AQ']\n"
     ]
    },
    {
     "name": "stderr",
     "output_type": "stream",
     "text": [
      " 30%|██▉       | 12488/42004 [04:11<10:17, 47.81it/s]"
     ]
    },
    {
     "name": "stdout",
     "output_type": "stream",
     "text": [
      "Flow 1: 1165 - ['QK', 'YC', 'AI', 'HC', 'ZJ', 'LS']\n",
      "Flow 2: 1669 - ['KQ', 'RF', 'AZ', 'VI', 'IM', 'IY', 'AQ']\n",
      "Flow 1: 1169 - ['QK', 'YC', 'AI', 'HC', 'ZJ', 'KZ']\n",
      "Flow 2: 1669 - ['KQ', 'RF', 'AZ', 'VI', 'IM', 'IY', 'AQ']\n"
     ]
    },
    {
     "name": "stderr",
     "output_type": "stream",
     "text": [
      "100%|██████████| 42004/42004 [14:14<00:00, 49.17it/s]\n"
     ]
    }
   ],
   "source": [
    "# Find two paths which have completely different paths\n",
    "\n",
    "max_flow = 0\n",
    "best_combination_flows = None\n",
    "for flow in tqdm(best_flows):\n",
    "    for flow_ in best_flows:\n",
    "        if not set(flow.path) & set(flow_.path):\n",
    "            flow_value = flow.released_pressure + flow_.released_pressure\n",
    "            if flow_value > max_flow:\n",
    "                max_flow = flow_value\n",
    "                best_combination_flows = (flow, flow_)\n",
    "                print(f'Flow 1: {flow.released_pressure} - {flow.path}')\n",
    "                print(f'Flow 2: {flow_.released_pressure} - {flow_.path}')"
   ]
  },
  {
   "cell_type": "code",
   "execution_count": 115,
   "metadata": {},
   "outputs": [
    {
     "data": {
      "text/plain": [
       "['QK', 'YC', 'AI', 'HC', 'ZJ', 'KZ']"
      ]
     },
     "execution_count": 115,
     "metadata": {},
     "output_type": "execute_result"
    }
   ],
   "source": [
    "best_combination_flows[0].path"
   ]
  },
  {
   "cell_type": "code",
   "execution_count": 118,
   "metadata": {},
   "outputs": [
    {
     "data": {
      "text/plain": [
       "1169"
      ]
     },
     "execution_count": 118,
     "metadata": {},
     "output_type": "execute_result"
    }
   ],
   "source": [
    "best_combination_flows[0].released_pressure"
   ]
  },
  {
   "cell_type": "code",
   "execution_count": 116,
   "metadata": {},
   "outputs": [
    {
     "data": {
      "text/plain": [
       "['KQ', 'RF', 'AZ', 'VI', 'IM', 'IY', 'AQ']"
      ]
     },
     "execution_count": 116,
     "metadata": {},
     "output_type": "execute_result"
    }
   ],
   "source": [
    "best_combination_flows[1].path"
   ]
  },
  {
   "cell_type": "code",
   "execution_count": 117,
   "metadata": {},
   "outputs": [
    {
     "data": {
      "text/plain": [
       "1669"
      ]
     },
     "execution_count": 117,
     "metadata": {},
     "output_type": "execute_result"
    }
   ],
   "source": [
    "best_combination_flows[1].released_pressure"
   ]
  },
  {
   "cell_type": "code",
   "execution_count": 119,
   "metadata": {},
   "outputs": [
    {
     "data": {
      "text/plain": [
       "2838"
      ]
     },
     "execution_count": 119,
     "metadata": {},
     "output_type": "execute_result"
    }
   ],
   "source": [
    "1169 + 1669"
   ]
  },
  {
   "cell_type": "code",
   "execution_count": 226,
   "metadata": {},
   "outputs": [],
   "source": [
    "## Part 2\n",
    "max_minutes = 26\n",
    "\n",
    "from tqdm import tqdm\n",
    "from math import factorial\n",
    "import copy\n",
    "\n",
    "class Flow:\n",
    "    def __init__(self, verbose=False):\n",
    "        self.flow_rate = 0\n",
    "        self.released_pressure = 0\n",
    "        self.passed_minutes = 0\n",
    "        self.path = []\n",
    "        \n",
    "    def increase_flow(self, G, node):\n",
    "        self.timestep()\n",
    "        self.flow_rate += G.nodes[node][\"flow_rate\"]\n",
    "        self.path.append(node)\n",
    "        \n",
    "    def timestep(self):\n",
    "        self.released_pressure += self.flow_rate\n",
    "        self.passed_minutes += 1\n",
    "        \n",
    "    def copy(self):\n",
    "        pf = Flow()\n",
    "        pf.flow_rate = self.flow_rate\n",
    "        pf.released_pressure = self.released_pressure\n",
    "        pf.passed_minutes = self.passed_minutes\n",
    "        return pf\n",
    "\n",
    "\n",
    "    \n",
    "def move_and_maybe_open(G, flow: PressureFlow, current_node, node):\n",
    "    shortest_path = get_shortest_path(G, current_node, node)\n",
    "    for _ in range(len(shortest_path)-1):\n",
    "        flow.timestep()\n",
    "        if flow.passed_minutes > max_minutes:\n",
    "            return G, flow\n",
    "    if flow.passed_minutes < max_minutes:\n",
    "        open_node(G, flow, node)\n",
    "    return G, flow\n",
    "\n",
    "def open_node(G, flow: PressureFlow, node):\n",
    "    # Open node if smart\n",
    "    if (G.nodes[node]['flow_rate'] > 0) and not G.nodes[node]['open']:\n",
    "        flow.increase_flow(G, node)\n",
    "        G.nodes[node]['open'] = True\n",
    "        \n",
    "def calculate_potential(G, flow: PressureFlow, current_node, node):\n",
    "    # Calculate potential\n",
    "    if G.nodes[node]['open']:\n",
    "        return 0\n",
    "    shortest_path = get_shortest_path(G, current_node, node)\n",
    "    potential_flow = (max_minutes - flow.passed_minutes - (len(shortest_path) - 1) - 1) * G.nodes[node]['flow_rate']\n",
    "    return potential_flow\n",
    "\n",
    "def get_best_opening_combination_2(G, flow_elf, flow_elephant, current_node_elf, current_node_elephant):\n",
    "    possible_nodes_elf = [x for x in G.nodes if calculate_potential(G, flow_elf, current_node_elf, x) > 0]\n",
    "    possible_nodes_elephant = [x for x in G.nodes if calculate_potential(G, flow_elephant, current_node_elephant, x) > 0]\n",
    "    \n",
    "    if len(possible_nodes_elf) == 0 and len(possible_nodes_elephant) == 0:\n",
    "        while flow_elf.passed_minutes < max_minutes:\n",
    "            flow_elf.timestep()\n",
    "        while flow_elephant.passed_minutes < max_minutes:\n",
    "            flow_elephant.timestep()\n",
    "        return flow_elephant.released_pressure + flow_elf.released_pressure\n",
    "    \n",
    "    if len(possible_nodes_elephant) == 0:\n",
    "        while flow_elephant.passed_minutes < max_minutes:\n",
    "            flow_elephant.timestep()\n",
    "        return flow_elephant.released_pressure + get_best_opening_combination(\n",
    "            G.copy(), flow_elf, current_node_elf)\n",
    "            \n",
    "    if len(possible_nodes_elf) == 0:\n",
    "        while flow_elf.passed_minutes < max_minutes:\n",
    "            flow_elf.timestep()\n",
    "        return flow_elf.released_pressure + get_best_opening_combination(\n",
    "            G.copy(), flow_elephant, current_node_elephant)\n",
    "        \n",
    "    elif flow_elf.passed_minutes == max_minutes and flow_elephant.passed_minutes == max_minutes:\n",
    "        return flow_elephant.released_pressure + flow_elf.released_pressure\n",
    "    \n",
    "    else:\n",
    "        possible_next_nodes = []\n",
    "        for node_elf in possible_nodes_elf:\n",
    "            for node_elephant in possible_nodes_elephant:\n",
    "                if node_elf == node_elephant and (len(possible_nodes_elf) > 1 or len(possible_nodes_elephant) > 1):\n",
    "                    continue\n",
    "                elif node_elf == node_elephant and len(possible_nodes_elf) == 1 and len(possible_nodes_elephant) == 1:\n",
    "                    potential_elephant = calculate_potential(G, flow_elephant, current_node_elephant, node_elephant)\n",
    "                    potential_elf = calculate_potential(G, flow_elf, current_node_elf, node_elf)\n",
    "                    if potential_elephant > potential_elf:\n",
    "                        while flow_elf.passed_minutes < max_minutes:\n",
    "                            flow_elf.timestep()\n",
    "                        return flow_elf.released_pressure + get_best_opening_combination(\n",
    "                            G.copy(), flow_elephant, node_elephant)\n",
    "                    elif potential_elephant <= potential_elf: # Smaller than because potential could be equal.\n",
    "                        while flow_elephant.passed_minutes < max_minutes:\n",
    "                            flow_elephant.timestep()\n",
    "                        return flow_elephant.released_pressure + get_best_opening_combination(\n",
    "                            G.copy(), flow_elf, node_elf)\n",
    "                    else:\n",
    "                        raise ValueError(\"Something went wrong\")\n",
    "                        \n",
    "                else:\n",
    "                    G_elf_, flow_elf_ = move_and_maybe_open(G.copy(), flow.copy(), current_node_elf, node_elf)\n",
    "                    G_eleph_, flow_elephant_ = move_and_maybe_open(G.copy(), flow.copy(), current_node_elephant, node_elephant)\n",
    "\n",
    "                    best_flow_elf = get_best_opening_combination_2(G_elf_.copy(), flow_elf_.copy(), flow_elephant_.copy(), current_node_elf, node_elf)\n",
    "                    best_flow_ele = get_best_opening_combination_2(G_eleph_.copy(), flow_elf_.copy(), flow_elephant_.copy(), current_node_elephant, node_elephant)\n",
    "                    possible_next_nodes.append(best_flow_elf + best_flow_ele)\n",
    "        return max(possible_next_nodes) \n"
   ]
  },
  {
   "cell_type": "code",
   "execution_count": 227,
   "metadata": {},
   "outputs": [
    {
     "ename": "KeyboardInterrupt",
     "evalue": "",
     "output_type": "error",
     "traceback": [
      "\u001b[0;31m---------------------------------------------------------------------------\u001b[0m",
      "\u001b[0;31mKeyboardInterrupt\u001b[0m                         Traceback (most recent call last)",
      "Cell \u001b[0;32mIn[227], line 3\u001b[0m\n\u001b[1;32m      1\u001b[0m flow \u001b[39m=\u001b[39m Flow()\n\u001b[0;32m----> 3\u001b[0m get_best_opening_combination_2(G\u001b[39m.\u001b[39;49mcopy(), flow\u001b[39m.\u001b[39;49mcopy(), flow\u001b[39m.\u001b[39;49mcopy(), \u001b[39m'\u001b[39;49m\u001b[39mAA\u001b[39;49m\u001b[39m'\u001b[39;49m, \u001b[39m'\u001b[39;49m\u001b[39mAA\u001b[39;49m\u001b[39m'\u001b[39;49m)\n",
      "Cell \u001b[0;32mIn[226], line 122\u001b[0m, in \u001b[0;36mget_best_opening_combination_2\u001b[0;34m(G, flow_elf, flow_elephant, current_node_elf, current_node_elephant)\u001b[0m\n\u001b[1;32m    119\u001b[0m G_elf_, flow_elf_ \u001b[39m=\u001b[39m move_and_maybe_open(G\u001b[39m.\u001b[39mcopy(), flow\u001b[39m.\u001b[39mcopy(), current_node_elf, node_elf)\n\u001b[1;32m    120\u001b[0m G_eleph_, flow_elephant_ \u001b[39m=\u001b[39m move_and_maybe_open(G\u001b[39m.\u001b[39mcopy(), flow\u001b[39m.\u001b[39mcopy(), current_node_elephant, node_elephant)\n\u001b[0;32m--> 122\u001b[0m best_flow_elf \u001b[39m=\u001b[39m get_best_opening_combination_2(G_elf_\u001b[39m.\u001b[39;49mcopy(), flow_elf_\u001b[39m.\u001b[39;49mcopy(), flow_elephant_\u001b[39m.\u001b[39;49mcopy(), current_node_elf, node_elf)\n\u001b[1;32m    123\u001b[0m best_flow_ele \u001b[39m=\u001b[39m get_best_opening_combination_2(G_eleph_\u001b[39m.\u001b[39mcopy(), flow_elf_\u001b[39m.\u001b[39mcopy(), flow_elephant_\u001b[39m.\u001b[39mcopy(), current_node_elephant, node_elephant)\n\u001b[1;32m    124\u001b[0m possible_next_nodes\u001b[39m.\u001b[39mappend(best_flow_elf \u001b[39m+\u001b[39m best_flow_ele)\n",
      "Cell \u001b[0;32mIn[226], line 122\u001b[0m, in \u001b[0;36mget_best_opening_combination_2\u001b[0;34m(G, flow_elf, flow_elephant, current_node_elf, current_node_elephant)\u001b[0m\n\u001b[1;32m    119\u001b[0m G_elf_, flow_elf_ \u001b[39m=\u001b[39m move_and_maybe_open(G\u001b[39m.\u001b[39mcopy(), flow\u001b[39m.\u001b[39mcopy(), current_node_elf, node_elf)\n\u001b[1;32m    120\u001b[0m G_eleph_, flow_elephant_ \u001b[39m=\u001b[39m move_and_maybe_open(G\u001b[39m.\u001b[39mcopy(), flow\u001b[39m.\u001b[39mcopy(), current_node_elephant, node_elephant)\n\u001b[0;32m--> 122\u001b[0m best_flow_elf \u001b[39m=\u001b[39m get_best_opening_combination_2(G_elf_\u001b[39m.\u001b[39;49mcopy(), flow_elf_\u001b[39m.\u001b[39;49mcopy(), flow_elephant_\u001b[39m.\u001b[39;49mcopy(), current_node_elf, node_elf)\n\u001b[1;32m    123\u001b[0m best_flow_ele \u001b[39m=\u001b[39m get_best_opening_combination_2(G_eleph_\u001b[39m.\u001b[39mcopy(), flow_elf_\u001b[39m.\u001b[39mcopy(), flow_elephant_\u001b[39m.\u001b[39mcopy(), current_node_elephant, node_elephant)\n\u001b[1;32m    124\u001b[0m possible_next_nodes\u001b[39m.\u001b[39mappend(best_flow_elf \u001b[39m+\u001b[39m best_flow_ele)\n",
      "    \u001b[0;31m[... skipping similar frames: get_best_opening_combination_2 at line 122 (6 times)]\u001b[0m\n",
      "Cell \u001b[0;32mIn[226], line 122\u001b[0m, in \u001b[0;36mget_best_opening_combination_2\u001b[0;34m(G, flow_elf, flow_elephant, current_node_elf, current_node_elephant)\u001b[0m\n\u001b[1;32m    119\u001b[0m G_elf_, flow_elf_ \u001b[39m=\u001b[39m move_and_maybe_open(G\u001b[39m.\u001b[39mcopy(), flow\u001b[39m.\u001b[39mcopy(), current_node_elf, node_elf)\n\u001b[1;32m    120\u001b[0m G_eleph_, flow_elephant_ \u001b[39m=\u001b[39m move_and_maybe_open(G\u001b[39m.\u001b[39mcopy(), flow\u001b[39m.\u001b[39mcopy(), current_node_elephant, node_elephant)\n\u001b[0;32m--> 122\u001b[0m best_flow_elf \u001b[39m=\u001b[39m get_best_opening_combination_2(G_elf_\u001b[39m.\u001b[39;49mcopy(), flow_elf_\u001b[39m.\u001b[39;49mcopy(), flow_elephant_\u001b[39m.\u001b[39;49mcopy(), current_node_elf, node_elf)\n\u001b[1;32m    123\u001b[0m best_flow_ele \u001b[39m=\u001b[39m get_best_opening_combination_2(G_eleph_\u001b[39m.\u001b[39mcopy(), flow_elf_\u001b[39m.\u001b[39mcopy(), flow_elephant_\u001b[39m.\u001b[39mcopy(), current_node_elephant, node_elephant)\n\u001b[1;32m    124\u001b[0m possible_next_nodes\u001b[39m.\u001b[39mappend(best_flow_elf \u001b[39m+\u001b[39m best_flow_ele)\n",
      "Cell \u001b[0;32mIn[226], line 123\u001b[0m, in \u001b[0;36mget_best_opening_combination_2\u001b[0;34m(G, flow_elf, flow_elephant, current_node_elf, current_node_elephant)\u001b[0m\n\u001b[1;32m    120\u001b[0m             G_eleph_, flow_elephant_ \u001b[39m=\u001b[39m move_and_maybe_open(G\u001b[39m.\u001b[39mcopy(), flow\u001b[39m.\u001b[39mcopy(), current_node_elephant, node_elephant)\n\u001b[1;32m    122\u001b[0m             best_flow_elf \u001b[39m=\u001b[39m get_best_opening_combination_2(G_elf_\u001b[39m.\u001b[39mcopy(), flow_elf_\u001b[39m.\u001b[39mcopy(), flow_elephant_\u001b[39m.\u001b[39mcopy(), current_node_elf, node_elf)\n\u001b[0;32m--> 123\u001b[0m             best_flow_ele \u001b[39m=\u001b[39m get_best_opening_combination_2(G_eleph_\u001b[39m.\u001b[39;49mcopy(), flow_elf_\u001b[39m.\u001b[39;49mcopy(), flow_elephant_\u001b[39m.\u001b[39;49mcopy(), current_node_elephant, node_elephant)\n\u001b[1;32m    124\u001b[0m             possible_next_nodes\u001b[39m.\u001b[39mappend(best_flow_elf \u001b[39m+\u001b[39m best_flow_ele)\n\u001b[1;32m    125\u001b[0m \u001b[39mreturn\u001b[39;00m \u001b[39mmax\u001b[39m(possible_next_nodes)\n",
      "Cell \u001b[0;32mIn[226], line 123\u001b[0m, in \u001b[0;36mget_best_opening_combination_2\u001b[0;34m(G, flow_elf, flow_elephant, current_node_elf, current_node_elephant)\u001b[0m\n\u001b[1;32m    120\u001b[0m             G_eleph_, flow_elephant_ \u001b[39m=\u001b[39m move_and_maybe_open(G\u001b[39m.\u001b[39mcopy(), flow\u001b[39m.\u001b[39mcopy(), current_node_elephant, node_elephant)\n\u001b[1;32m    122\u001b[0m             best_flow_elf \u001b[39m=\u001b[39m get_best_opening_combination_2(G_elf_\u001b[39m.\u001b[39mcopy(), flow_elf_\u001b[39m.\u001b[39mcopy(), flow_elephant_\u001b[39m.\u001b[39mcopy(), current_node_elf, node_elf)\n\u001b[0;32m--> 123\u001b[0m             best_flow_ele \u001b[39m=\u001b[39m get_best_opening_combination_2(G_eleph_\u001b[39m.\u001b[39;49mcopy(), flow_elf_\u001b[39m.\u001b[39;49mcopy(), flow_elephant_\u001b[39m.\u001b[39;49mcopy(), current_node_elephant, node_elephant)\n\u001b[1;32m    124\u001b[0m             possible_next_nodes\u001b[39m.\u001b[39mappend(best_flow_elf \u001b[39m+\u001b[39m best_flow_ele)\n\u001b[1;32m    125\u001b[0m \u001b[39mreturn\u001b[39;00m \u001b[39mmax\u001b[39m(possible_next_nodes)\n",
      "Cell \u001b[0;32mIn[226], line 122\u001b[0m, in \u001b[0;36mget_best_opening_combination_2\u001b[0;34m(G, flow_elf, flow_elephant, current_node_elf, current_node_elephant)\u001b[0m\n\u001b[1;32m    119\u001b[0m G_elf_, flow_elf_ \u001b[39m=\u001b[39m move_and_maybe_open(G\u001b[39m.\u001b[39mcopy(), flow\u001b[39m.\u001b[39mcopy(), current_node_elf, node_elf)\n\u001b[1;32m    120\u001b[0m G_eleph_, flow_elephant_ \u001b[39m=\u001b[39m move_and_maybe_open(G\u001b[39m.\u001b[39mcopy(), flow\u001b[39m.\u001b[39mcopy(), current_node_elephant, node_elephant)\n\u001b[0;32m--> 122\u001b[0m best_flow_elf \u001b[39m=\u001b[39m get_best_opening_combination_2(G_elf_\u001b[39m.\u001b[39;49mcopy(), flow_elf_\u001b[39m.\u001b[39;49mcopy(), flow_elephant_\u001b[39m.\u001b[39;49mcopy(), current_node_elf, node_elf)\n\u001b[1;32m    123\u001b[0m best_flow_ele \u001b[39m=\u001b[39m get_best_opening_combination_2(G_eleph_\u001b[39m.\u001b[39mcopy(), flow_elf_\u001b[39m.\u001b[39mcopy(), flow_elephant_\u001b[39m.\u001b[39mcopy(), current_node_elephant, node_elephant)\n\u001b[1;32m    124\u001b[0m possible_next_nodes\u001b[39m.\u001b[39mappend(best_flow_elf \u001b[39m+\u001b[39m best_flow_ele)\n",
      "Cell \u001b[0;32mIn[226], line 122\u001b[0m, in \u001b[0;36mget_best_opening_combination_2\u001b[0;34m(G, flow_elf, flow_elephant, current_node_elf, current_node_elephant)\u001b[0m\n\u001b[1;32m    119\u001b[0m G_elf_, flow_elf_ \u001b[39m=\u001b[39m move_and_maybe_open(G\u001b[39m.\u001b[39mcopy(), flow\u001b[39m.\u001b[39mcopy(), current_node_elf, node_elf)\n\u001b[1;32m    120\u001b[0m G_eleph_, flow_elephant_ \u001b[39m=\u001b[39m move_and_maybe_open(G\u001b[39m.\u001b[39mcopy(), flow\u001b[39m.\u001b[39mcopy(), current_node_elephant, node_elephant)\n\u001b[0;32m--> 122\u001b[0m best_flow_elf \u001b[39m=\u001b[39m get_best_opening_combination_2(G_elf_\u001b[39m.\u001b[39;49mcopy(), flow_elf_\u001b[39m.\u001b[39;49mcopy(), flow_elephant_\u001b[39m.\u001b[39;49mcopy(), current_node_elf, node_elf)\n\u001b[1;32m    123\u001b[0m best_flow_ele \u001b[39m=\u001b[39m get_best_opening_combination_2(G_eleph_\u001b[39m.\u001b[39mcopy(), flow_elf_\u001b[39m.\u001b[39mcopy(), flow_elephant_\u001b[39m.\u001b[39mcopy(), current_node_elephant, node_elephant)\n\u001b[1;32m    124\u001b[0m possible_next_nodes\u001b[39m.\u001b[39mappend(best_flow_elf \u001b[39m+\u001b[39m best_flow_ele)\n",
      "Cell \u001b[0;32mIn[226], line 122\u001b[0m, in \u001b[0;36mget_best_opening_combination_2\u001b[0;34m(G, flow_elf, flow_elephant, current_node_elf, current_node_elephant)\u001b[0m\n\u001b[1;32m    119\u001b[0m G_elf_, flow_elf_ \u001b[39m=\u001b[39m move_and_maybe_open(G\u001b[39m.\u001b[39mcopy(), flow\u001b[39m.\u001b[39mcopy(), current_node_elf, node_elf)\n\u001b[1;32m    120\u001b[0m G_eleph_, flow_elephant_ \u001b[39m=\u001b[39m move_and_maybe_open(G\u001b[39m.\u001b[39mcopy(), flow\u001b[39m.\u001b[39mcopy(), current_node_elephant, node_elephant)\n\u001b[0;32m--> 122\u001b[0m best_flow_elf \u001b[39m=\u001b[39m get_best_opening_combination_2(G_elf_\u001b[39m.\u001b[39;49mcopy(), flow_elf_\u001b[39m.\u001b[39;49mcopy(), flow_elephant_\u001b[39m.\u001b[39;49mcopy(), current_node_elf, node_elf)\n\u001b[1;32m    123\u001b[0m best_flow_ele \u001b[39m=\u001b[39m get_best_opening_combination_2(G_eleph_\u001b[39m.\u001b[39mcopy(), flow_elf_\u001b[39m.\u001b[39mcopy(), flow_elephant_\u001b[39m.\u001b[39mcopy(), current_node_elephant, node_elephant)\n\u001b[1;32m    124\u001b[0m possible_next_nodes\u001b[39m.\u001b[39mappend(best_flow_elf \u001b[39m+\u001b[39m best_flow_ele)\n",
      "Cell \u001b[0;32mIn[226], line 113\u001b[0m, in \u001b[0;36mget_best_opening_combination_2\u001b[0;34m(G, flow_elf, flow_elephant, current_node_elf, current_node_elephant)\u001b[0m\n\u001b[1;32m    111\u001b[0m     \u001b[39mwhile\u001b[39;00m flow_elephant\u001b[39m.\u001b[39mpassed_minutes \u001b[39m<\u001b[39m max_minutes:\n\u001b[1;32m    112\u001b[0m         flow_elephant\u001b[39m.\u001b[39mtimestep()\n\u001b[0;32m--> 113\u001b[0m     \u001b[39mreturn\u001b[39;00m flow_elephant\u001b[39m.\u001b[39mreleased_pressure \u001b[39m+\u001b[39m get_best_opening_combination(\n\u001b[1;32m    114\u001b[0m         G\u001b[39m.\u001b[39;49mcopy(), flow_elf, node_elf)\n\u001b[1;32m    115\u001b[0m \u001b[39melse\u001b[39;00m:\n\u001b[1;32m    116\u001b[0m     \u001b[39mraise\u001b[39;00m \u001b[39mValueError\u001b[39;00m(\u001b[39m\"\u001b[39m\u001b[39mSomething went wrong\u001b[39m\u001b[39m\"\u001b[39m)\n",
      "Cell \u001b[0;32mIn[226], line 32\u001b[0m, in \u001b[0;36mget_best_opening_combination\u001b[0;34m(G, flow, starting_node)\u001b[0m\n\u001b[1;32m     31\u001b[0m \u001b[39mdef\u001b[39;00m \u001b[39mget_best_opening_combination\u001b[39m(G, flow, starting_node):\n\u001b[0;32m---> 32\u001b[0m     possible_nodes \u001b[39m=\u001b[39m [x \u001b[39mfor\u001b[39;00m x \u001b[39min\u001b[39;00m G\u001b[39m.\u001b[39mnodes \u001b[39mif\u001b[39;00m calculate_potential(G, flow, starting_node, x) \u001b[39m>\u001b[39m \u001b[39m0\u001b[39m]\n\u001b[1;32m     33\u001b[0m     \u001b[39mif\u001b[39;00m \u001b[39mlen\u001b[39m(possible_nodes) \u001b[39m==\u001b[39m \u001b[39m0\u001b[39m \u001b[39mand\u001b[39;00m flow\u001b[39m.\u001b[39mpassed_minutes \u001b[39m<\u001b[39m max_minutes:\n\u001b[1;32m     34\u001b[0m         \u001b[39mwhile\u001b[39;00m flow\u001b[39m.\u001b[39mpassed_minutes \u001b[39m<\u001b[39m max_minutes:\n",
      "Cell \u001b[0;32mIn[226], line 32\u001b[0m, in \u001b[0;36m<listcomp>\u001b[0;34m(.0)\u001b[0m\n\u001b[1;32m     31\u001b[0m \u001b[39mdef\u001b[39;00m \u001b[39mget_best_opening_combination\u001b[39m(G, flow, starting_node):\n\u001b[0;32m---> 32\u001b[0m     possible_nodes \u001b[39m=\u001b[39m [x \u001b[39mfor\u001b[39;00m x \u001b[39min\u001b[39;00m G\u001b[39m.\u001b[39mnodes \u001b[39mif\u001b[39;00m calculate_potential(G, flow, starting_node, x) \u001b[39m>\u001b[39m \u001b[39m0\u001b[39m]\n\u001b[1;32m     33\u001b[0m     \u001b[39mif\u001b[39;00m \u001b[39mlen\u001b[39m(possible_nodes) \u001b[39m==\u001b[39m \u001b[39m0\u001b[39m \u001b[39mand\u001b[39;00m flow\u001b[39m.\u001b[39mpassed_minutes \u001b[39m<\u001b[39m max_minutes:\n\u001b[1;32m     34\u001b[0m         \u001b[39mwhile\u001b[39;00m flow\u001b[39m.\u001b[39mpassed_minutes \u001b[39m<\u001b[39m max_minutes:\n",
      "Cell \u001b[0;32mIn[226], line 66\u001b[0m, in \u001b[0;36mcalculate_potential\u001b[0;34m(G, flow, current_node, node)\u001b[0m\n\u001b[1;32m     64\u001b[0m \u001b[39mif\u001b[39;00m G\u001b[39m.\u001b[39mnodes[node][\u001b[39m'\u001b[39m\u001b[39mopen\u001b[39m\u001b[39m'\u001b[39m]:\n\u001b[1;32m     65\u001b[0m     \u001b[39mreturn\u001b[39;00m \u001b[39m0\u001b[39m\n\u001b[0;32m---> 66\u001b[0m shortest_path \u001b[39m=\u001b[39m get_shortest_path(G, current_node, node)\n\u001b[1;32m     67\u001b[0m potential_flow \u001b[39m=\u001b[39m (max_minutes \u001b[39m-\u001b[39m flow\u001b[39m.\u001b[39mpassed_minutes \u001b[39m-\u001b[39m (\u001b[39mlen\u001b[39m(shortest_path) \u001b[39m-\u001b[39m \u001b[39m1\u001b[39m) \u001b[39m-\u001b[39m \u001b[39m1\u001b[39m) \u001b[39m*\u001b[39m G\u001b[39m.\u001b[39mnodes[node][\u001b[39m'\u001b[39m\u001b[39mflow_rate\u001b[39m\u001b[39m'\u001b[39m]\n\u001b[1;32m     68\u001b[0m \u001b[39mreturn\u001b[39;00m potential_flow\n",
      "Cell \u001b[0;32mIn[205], line 6\u001b[0m, in \u001b[0;36mget_shortest_path\u001b[0;34m(G, start, end)\u001b[0m\n\u001b[1;32m      4\u001b[0m \u001b[39m@lru_cache\u001b[39m\n\u001b[1;32m      5\u001b[0m \u001b[39mdef\u001b[39;00m \u001b[39mget_shortest_path\u001b[39m(G, start, end):\n\u001b[0;32m----> 6\u001b[0m     \u001b[39mreturn\u001b[39;00m nx\u001b[39m.\u001b[39;49mshortest_path(G, start, end)\n",
      "File \u001b[0;32m~/miniconda3/envs/advent_2022/lib/python3.10/site-packages/networkx/algorithms/shortest_paths/generic.py:165\u001b[0m, in \u001b[0;36mshortest_path\u001b[0;34m(G, source, target, weight, method)\u001b[0m\n\u001b[1;32m    162\u001b[0m \u001b[39melse\u001b[39;00m:\n\u001b[1;32m    163\u001b[0m     \u001b[39m# Find shortest source-target path.\u001b[39;00m\n\u001b[1;32m    164\u001b[0m     \u001b[39mif\u001b[39;00m method \u001b[39m==\u001b[39m \u001b[39m\"\u001b[39m\u001b[39munweighted\u001b[39m\u001b[39m\"\u001b[39m:\n\u001b[0;32m--> 165\u001b[0m         paths \u001b[39m=\u001b[39m nx\u001b[39m.\u001b[39;49mbidirectional_shortest_path(G, source, target)\n\u001b[1;32m    166\u001b[0m     \u001b[39melif\u001b[39;00m method \u001b[39m==\u001b[39m \u001b[39m\"\u001b[39m\u001b[39mdijkstra\u001b[39m\u001b[39m\"\u001b[39m:\n\u001b[1;32m    167\u001b[0m         _, paths \u001b[39m=\u001b[39m nx\u001b[39m.\u001b[39mbidirectional_dijkstra(G, source, target, weight)\n",
      "File \u001b[0;32m~/miniconda3/envs/advent_2022/lib/python3.10/site-packages/networkx/algorithms/shortest_paths/unweighted.py:224\u001b[0m, in \u001b[0;36mbidirectional_shortest_path\u001b[0;34m(G, source, target)\u001b[0m\n\u001b[1;32m    221\u001b[0m     \u001b[39mraise\u001b[39;00m nx\u001b[39m.\u001b[39mNodeNotFound(msg)\n\u001b[1;32m    223\u001b[0m \u001b[39m# call helper to do the real work\u001b[39;00m\n\u001b[0;32m--> 224\u001b[0m results \u001b[39m=\u001b[39m _bidirectional_pred_succ(G, source, target)\n\u001b[1;32m    225\u001b[0m pred, succ, w \u001b[39m=\u001b[39m results\n\u001b[1;32m    227\u001b[0m \u001b[39m# build path from pred+w+succ\u001b[39;00m\n",
      "File \u001b[0;32m~/miniconda3/envs/advent_2022/lib/python3.10/site-packages/networkx/algorithms/shortest_paths/unweighted.py:288\u001b[0m, in \u001b[0;36m_bidirectional_pred_succ\u001b[0;34m(G, source, target)\u001b[0m\n\u001b[1;32m    286\u001b[0m \u001b[39mif\u001b[39;00m w \u001b[39mnot\u001b[39;00m \u001b[39min\u001b[39;00m succ:\n\u001b[1;32m    287\u001b[0m     succ[w] \u001b[39m=\u001b[39m v\n\u001b[0;32m--> 288\u001b[0m     reverse_fringe\u001b[39m.\u001b[39;49mappend(w)\n\u001b[1;32m    289\u001b[0m \u001b[39mif\u001b[39;00m w \u001b[39min\u001b[39;00m pred:  \u001b[39m# found path\u001b[39;00m\n\u001b[1;32m    290\u001b[0m     \u001b[39mreturn\u001b[39;00m pred, succ, w\n",
      "\u001b[0;31mKeyboardInterrupt\u001b[0m: "
     ]
    }
   ],
   "source": [
    "flow = Flow()\n",
    "\n",
    "get_best_opening_combination_2(G.copy(), flow.copy(), flow.copy(), 'AA', 'AA')"
   ]
  },
  {
   "cell_type": "code",
   "execution_count": null,
   "metadata": {},
   "outputs": [],
   "source": []
  },
  {
   "cell_type": "code",
   "execution_count": null,
   "metadata": {},
   "outputs": [],
   "source": []
  }
 ],
 "metadata": {
  "kernelspec": {
   "display_name": "advent_2022",
   "language": "python",
   "name": "python3"
  },
  "language_info": {
   "codemirror_mode": {
    "name": "ipython",
    "version": 3
   },
   "file_extension": ".py",
   "mimetype": "text/x-python",
   "name": "python",
   "nbconvert_exporter": "python",
   "pygments_lexer": "ipython3",
   "version": "3.10.8"
  },
  "orig_nbformat": 4,
  "vscode": {
   "interpreter": {
    "hash": "e9c029708d60b63ec2dc0dafc20fc347cbf6e042f572f92547f8ceac5a5b7c8b"
   }
  }
 },
 "nbformat": 4,
 "nbformat_minor": 2
}
