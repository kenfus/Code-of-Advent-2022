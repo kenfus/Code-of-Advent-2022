{
 "cells": [
  {
   "cell_type": "code",
   "execution_count": 236,
   "metadata": {},
   "outputs": [],
   "source": [
    "map = np.genfromtxt('input_i4ds_test.txt', dtype=str, delimiter=1, comments=None)"
   ]
  },
  {
   "cell_type": "code",
   "execution_count": 238,
   "metadata": {},
   "outputs": [],
   "source": [
    "import networkx as nx\n",
    "G = nx.Graph()"
   ]
  },
  {
   "cell_type": "code",
   "execution_count": 239,
   "metadata": {},
   "outputs": [],
   "source": [
    "map_copy = map.copy()\n",
    "len_of_spaces = {}\n",
    "possible_endings = []\n",
    "for row_id, row in enumerate(map):\n",
    "    for col_id, col in enumerate(row):\n",
    "        current_node = (row_id, col_id)\n",
    "        if col == '#':\n",
    "            continue\n",
    "        elif col == 'S':\n",
    "            start = current_node\n",
    "        elif col == 'B':# and (row_id == len(map)-2 or col_id == len(row)-2):\n",
    "            possible_endings.append(current_node)\n",
    "        # Add curent Node\n",
    "        G.add_node(current_node)\n",
    "        ## Add all possible edges to other nodes below and right.\n",
    "        # Right\n",
    "        for i in range(1, len(row)-col_id):\n",
    "            if row[col_id+i] == '#':\n",
    "                break\n",
    "            else:\n",
    "                G.add_edge(current_node, (row_id, col_id+i), weight=(i-1))\n",
    "        # Down\n",
    "        for i in range(1, len(map)-row_id):\n",
    "            if map[row_id+i][col_id] == '#':\n",
    "                break\n",
    "            else:\n",
    "                G.add_edge(current_node, (row_id+i, col_id), weight=(i-1))"
   ]
  },
  {
   "cell_type": "code",
   "execution_count": 242,
   "metadata": {},
   "outputs": [
    {
     "name": "stdout",
     "output_type": "stream",
     "text": [
      "Found new longest path: [(1, 1), (1, 2), (0, 2), (0, 12), (6, 12), (6, 17), (4, 17), (4, 27), (15, 27), (15, 37)] with weight 47.\n",
      "Found new longest path: [(1, 1), (1, 2), (0, 2), (0, 13), (14, 13), (14, 20), (11, 20), (11, 24), (15, 24), (15, 37)] with weight 49.\n",
      "Found new longest path: [(1, 1), (1, 2), (0, 2), (0, 13), (14, 13), (14, 21), (4, 21), (4, 27), (15, 27), (15, 37)] with weight 63.\n",
      "Found new longest path: [(1, 1), (1, 2), (0, 2), (0, 13), (15, 13), (15, 21), (4, 21), (4, 27), (15, 27), (15, 37)] with weight 65.\n",
      "Found new longest path: [(1, 1), (1, 2), (0, 2), (14, 2), (14, 0), (14, 21), (4, 21), (4, 27), (15, 27), (15, 37)] with weight 67.\n",
      "Found new longest path: [(1, 1), (1, 2), (0, 2), (14, 2), (14, 21), (0, 21), (0, 39), (9, 39), (9, 37), (15, 37)] with weight 75.\n",
      "Found new longest path: [(1, 1), (1, 2), (1, 13), (14, 13), (14, 0), (14, 21), (4, 21), (4, 27), (15, 27), (15, 37)] with weight 87.\n",
      "Found new longest path: [(1, 1), (1, 2), (14, 2), (14, 14), (14, 0), (14, 21), (4, 21), (4, 27), (15, 27), (15, 37)] with weight 89.\n",
      "Found new longest path: [(1, 1), (1, 2), (14, 2), (14, 15), (14, 0), (14, 21), (4, 21), (4, 27), (15, 27), (15, 37)] with weight 91.\n",
      "Found new longest path: [(1, 1), (1, 2), (14, 2), (14, 16), (14, 0), (14, 21), (4, 21), (4, 27), (15, 27), (15, 37)] with weight 93.\n",
      "Found new longest path: [(1, 1), (1, 2), (14, 2), (14, 17), (14, 0), (14, 21), (4, 21), (4, 27), (15, 27), (15, 37)] with weight 95.\n",
      "Found new longest path: [(1, 1), (1, 2), (14, 2), (14, 18), (14, 0), (14, 21), (4, 21), (4, 27), (15, 27), (15, 37)] with weight 97.\n",
      "Found new longest path: [(1, 1), (1, 2), (14, 2), (14, 19), (14, 0), (14, 21), (4, 21), (4, 27), (15, 27), (15, 37)] with weight 99.\n",
      "Found new longest path: [(1, 1), (1, 2), (14, 2), (14, 20), (14, 0), (14, 21), (4, 21), (4, 27), (15, 27), (15, 37)] with weight 101.\n",
      "Found new longest path: [(1, 1), (1, 2), (14, 2), (14, 21), (14, 0), (14, 22), (4, 22), (4, 27), (15, 27), (15, 37)] with weight 103.\n",
      "Found new longest path: [(1, 1), (1, 2), (14, 2), (14, 22), (14, 0), (14, 21), (4, 21), (4, 27), (15, 27), (15, 37)] with weight 105.\n"
     ]
    },
    {
     "ename": "KeyboardInterrupt",
     "evalue": "",
     "output_type": "error",
     "traceback": [
      "\u001b[0;31m---------------------------------------------------------------------------\u001b[0m",
      "\u001b[0;31mKeyboardInterrupt\u001b[0m                         Traceback (most recent call last)",
      "Cell \u001b[0;32mIn[242], line 3\u001b[0m\n\u001b[1;32m      1\u001b[0m longest_path_weight \u001b[39m=\u001b[39m \u001b[39m0\u001b[39m\n\u001b[1;32m      2\u001b[0m NR_ARROWS \u001b[39m=\u001b[39m \u001b[39m10\u001b[39m\n\u001b[0;32m----> 3\u001b[0m \u001b[39mfor\u001b[39;00m path \u001b[39min\u001b[39;00m nx\u001b[39m.\u001b[39mall_simple_paths(G, source\u001b[39m=\u001b[39mstart, target\u001b[39m=\u001b[39mpossible_endings[\u001b[39m0\u001b[39m], cutoff\u001b[39m=\u001b[39mNR_ARROWS\u001b[39m-\u001b[39m\u001b[39m1\u001b[39m): \u001b[39m# 10 is the number of edges, aka number of arrows.\u001b[39;00m\n\u001b[1;32m      4\u001b[0m     weight \u001b[39m=\u001b[39m nx\u001b[39m.\u001b[39mpath_weight(G, path, weight\u001b[39m=\u001b[39m\u001b[39m'\u001b[39m\u001b[39mweight\u001b[39m\u001b[39m'\u001b[39m)\n\u001b[1;32m      5\u001b[0m     \u001b[39mif\u001b[39;00m weight \u001b[39m>\u001b[39m longest_path_weight:\n",
      "File \u001b[0;32m~/miniconda3/envs/advent_2022/lib/python3.10/site-packages/networkx/algorithms/simple_paths.py:274\u001b[0m, in \u001b[0;36m_all_simple_paths_graph\u001b[0;34m(G, source, targets, cutoff)\u001b[0m\n\u001b[1;32m    272\u001b[0m visited[child] \u001b[39m=\u001b[39m \u001b[39mNone\u001b[39;00m\n\u001b[1;32m    273\u001b[0m \u001b[39mif\u001b[39;00m targets \u001b[39m-\u001b[39m \u001b[39mset\u001b[39m(visited\u001b[39m.\u001b[39mkeys()):  \u001b[39m# expand stack until find all targets\u001b[39;00m\n\u001b[0;32m--> 274\u001b[0m     stack\u001b[39m.\u001b[39mappend(\u001b[39miter\u001b[39m(G[child]))\n\u001b[1;32m    275\u001b[0m \u001b[39melse\u001b[39;00m:\n\u001b[1;32m    276\u001b[0m     visited\u001b[39m.\u001b[39mpopitem()  \u001b[39m# maybe other ways to child\u001b[39;00m\n",
      "File \u001b[0;32m~/miniconda3/envs/advent_2022/lib/python3.10/site-packages/networkx/classes/graph.py:493\u001b[0m, in \u001b[0;36mGraph.__getitem__\u001b[0;34m(self, n)\u001b[0m\n\u001b[1;32m    472\u001b[0m     \u001b[39m\"\"\"Returns the number of nodes in the graph. Use: 'len(G)'.\u001b[39;00m\n\u001b[1;32m    473\u001b[0m \n\u001b[1;32m    474\u001b[0m \u001b[39m    Returns\u001b[39;00m\n\u001b[0;32m   (...)\u001b[0m\n\u001b[1;32m    489\u001b[0m \n\u001b[1;32m    490\u001b[0m \u001b[39m    \"\"\"\u001b[39;00m\n\u001b[1;32m    491\u001b[0m     \u001b[39mreturn\u001b[39;00m \u001b[39mlen\u001b[39m(\u001b[39mself\u001b[39m\u001b[39m.\u001b[39m_node)\n\u001b[0;32m--> 493\u001b[0m \u001b[39mdef\u001b[39;00m \u001b[39m__getitem__\u001b[39m(\u001b[39mself\u001b[39m, n):\n\u001b[1;32m    494\u001b[0m     \u001b[39m\"\"\"Returns a dict of neighbors of node n.  Use: 'G[n]'.\u001b[39;00m\n\u001b[1;32m    495\u001b[0m \n\u001b[1;32m    496\u001b[0m \u001b[39m    Parameters\u001b[39;00m\n\u001b[0;32m   (...)\u001b[0m\n\u001b[1;32m    515\u001b[0m \u001b[39m    AtlasView({1: {}})\u001b[39;00m\n\u001b[1;32m    516\u001b[0m \u001b[39m    \"\"\"\u001b[39;00m\n\u001b[1;32m    517\u001b[0m     \u001b[39mreturn\u001b[39;00m \u001b[39mself\u001b[39m\u001b[39m.\u001b[39madj[n]\n",
      "\u001b[0;31mKeyboardInterrupt\u001b[0m: "
     ]
    }
   ],
   "source": [
    "longest_path_weight = 0\n",
    "NR_ARROWS = 10\n",
    "for path in nx.all_simple_paths(G, source=start, target=possible_endings[0], cutoff=NR_ARROWS-1): # 10 is the number of edges, aka number of arrows.\n",
    "    weight = nx.path_weight(G, path, weight='weight')\n",
    "    if weight > longest_path_weight:\n",
    "        print(f'Found new longest path: {path} with weight {weight}.')\n",
    "        longest_path_weight = weight\n",
    "        longest_path = path\n"
   ]
  },
  {
   "cell_type": "code",
   "execution_count": 243,
   "metadata": {},
   "outputs": [],
   "source": [
    "def create_map(map, path):\n",
    "    map_copy = map.copy()\n",
    "    node_before = None\n",
    "    for node in path[1:]:\n",
    "        if node_before is None:\n",
    "            node_before = node\n",
    "            continue\n",
    "        # Decide if we add a < > or a v ^\n",
    "        if node[0] > node_before[0]:\n",
    "            map_copy[node_before] = 'v'\n",
    "        elif node[0] < node_before[0]:\n",
    "            map_copy[node_before] = '^'\n",
    "        elif node[1] > node_before[1]:\n",
    "            map_copy[node_before] = '>'\n",
    "        elif node[1] < node_before[1]:\n",
    "            map_copy[node_before] = '<'\n",
    "        else:\n",
    "            raise ValueError('Something went wrong')\n",
    "        node_before = node\n",
    "    return map_copy"
   ]
  },
  {
   "cell_type": "code",
   "execution_count": 244,
   "metadata": {},
   "outputs": [],
   "source": [
    "map_path = create_map(map, longest_path)"
   ]
  },
  {
   "cell_type": "code",
   "execution_count": null,
   "metadata": {},
   "outputs": [],
   "source": [
    "map_path"
   ]
  },
  {
   "cell_type": "code",
   "execution_count": 245,
   "metadata": {},
   "outputs": [
    {
     "data": {
      "text/plain": [
       "array([['#', '#', '.', '.', '.', '.', '.', '.', '.', '.', '.', '.', '.',\n",
       "        '.', '.', '.', '.', '.', '#', '.', '.', '.', '.', '.', '.', '.',\n",
       "        '.', '.', '.', '.', '.', '.', '.', '.', '.', '.', '.', '.', '.',\n",
       "        '.'],\n",
       "       ['#', 'S', 'v', '.', '.', '.', '.', '.', '.', '.', '.', '.', '.',\n",
       "        '.', '.', '.', '.', '#', '.', '.', '.', '.', '.', '.', '.', '.',\n",
       "        '#', '#', '.', '.', '.', '.', '.', '.', '#', '#', '.', '.', '.',\n",
       "        '.'],\n",
       "       ['.', '.', '.', '.', '.', '.', '.', '.', '.', '.', '.', '.', '.',\n",
       "        '.', '.', '#', '#', '.', '.', '.', '.', '.', '.', '.', '.', '.',\n",
       "        '#', '.', '.', '.', '.', '.', '.', '.', '.', '.', '.', '.', '.',\n",
       "        '.'],\n",
       "       ['.', '.', '.', '.', '.', '.', '.', '.', '#', '.', '#', '.', '.',\n",
       "        '.', '#', '#', '#', '.', '.', '.', '.', '.', '.', '.', '.', '.',\n",
       "        '#', '.', '.', '#', '#', '#', '#', '.', '.', '.', '.', '.', '.',\n",
       "        '.'],\n",
       "       ['.', '.', '.', '.', '.', '.', '.', '.', '.', '.', '.', '.', '.',\n",
       "        '.', '#', '#', '#', '.', '.', '.', '.', '>', '.', '.', '.', '.',\n",
       "        '.', 'v', '.', '#', '#', '#', '#', '#', '.', '.', '#', '#', '.',\n",
       "        '.'],\n",
       "       ['.', '.', '.', '.', '.', '.', '.', '.', '.', '.', '.', '.', '.',\n",
       "        '.', '#', '#', '#', '.', '.', '.', '.', '.', '.', '.', '.', '.',\n",
       "        '.', '.', '.', '.', '.', '#', '#', '#', '.', '.', '.', '#', '.',\n",
       "        '.'],\n",
       "       ['.', '.', '.', '.', '.', '.', '.', '#', '#', '#', '#', '#', '.',\n",
       "        '.', '.', '.', '.', '.', '.', '.', '.', '.', '.', '.', '#', '#',\n",
       "        '#', '.', '.', '.', '.', '.', '.', '.', '.', '#', '#', '.', '.',\n",
       "        '.'],\n",
       "       ['.', '.', '.', '.', '.', '.', '#', '#', '#', '#', '#', '#', '#',\n",
       "        '.', '.', '.', '.', '#', '#', '.', '.', '.', '.', '.', '.', '.',\n",
       "        '.', '.', '.', '.', '#', '#', '.', '.', '.', '.', '#', '#', '.',\n",
       "        '.'],\n",
       "       ['.', '.', '.', '.', '#', '#', '#', '#', '#', '#', '#', '#', '#',\n",
       "        '.', '.', '.', '.', '#', '#', '#', '.', '.', '.', '.', '.', '.',\n",
       "        '.', '.', '.', '.', '#', '#', '.', '.', '.', '.', '.', '#', '#',\n",
       "        '.'],\n",
       "       ['.', '.', '.', '.', '#', '#', '#', '#', '#', '#', '#', '#', '#',\n",
       "        '.', '.', '.', '#', '#', '#', '#', '#', '.', '.', '.', '.', '.',\n",
       "        '.', '.', '.', '#', '#', '#', '#', '.', '.', '.', '.', '.', '.',\n",
       "        '.'],\n",
       "       ['.', '.', '.', '#', '#', '#', '#', '#', '#', '#', '#', '#', '#',\n",
       "        '.', '.', '.', '#', '#', '#', '#', '#', '.', '.', '.', '.', '.',\n",
       "        '.', '.', '#', '#', '#', '#', '#', '#', '.', '.', '.', '.', '.',\n",
       "        '.'],\n",
       "       ['#', '#', '.', '#', '#', '#', '#', '#', '#', '#', '#', '.', '.',\n",
       "        '.', '.', '.', '.', '#', '#', '#', '.', '.', '.', '.', '.', '.',\n",
       "        '.', '.', '#', '#', '#', '#', '#', '#', '.', '.', '.', '.', '.',\n",
       "        '.'],\n",
       "       ['.', '.', '.', '.', '.', '.', '#', '#', '#', '#', '.', '.', '.',\n",
       "        '.', '.', '.', '.', '#', '#', '#', '.', '.', '.', '#', '.', '.',\n",
       "        '.', '.', '#', '#', '#', '#', '#', '#', '.', '.', '.', '.', '.',\n",
       "        '.'],\n",
       "       ['.', '.', '.', '.', '.', '.', '.', '#', '#', '.', '.', '.', '.',\n",
       "        '.', '.', '.', '.', '#', '#', '#', '.', '.', '.', '#', '.', '.',\n",
       "        '.', '.', '#', '#', '#', '#', '#', '#', '.', '.', '.', '.', '#',\n",
       "        '#'],\n",
       "       ['>', '.', '>', '.', '.', '.', '.', '.', '.', '.', '.', '.', '.',\n",
       "        '.', '.', '.', '.', '.', '.', '.', '.', '^', '<', '#', '.', '.',\n",
       "        '.', '.', '.', '#', '#', '#', '#', '.', '.', '.', '.', '.', '.',\n",
       "        '.'],\n",
       "       ['.', '.', '.', '.', '.', '.', '.', '.', '#', '.', '.', '.', '.',\n",
       "        '.', '.', '.', '.', '.', '.', '.', '.', '.', '#', '.', '.', '.',\n",
       "        '.', '>', '.', '.', '.', '.', '.', '.', '.', '.', '.', 'B', 'B',\n",
       "        'B']], dtype='<U1')"
      ]
     },
     "execution_count": 245,
     "metadata": {},
     "output_type": "execute_result"
    }
   ],
   "source": [
    "map_path"
   ]
  },
  {
   "cell_type": "code",
   "execution_count": null,
   "metadata": {},
   "outputs": [],
   "source": []
  }
 ],
 "metadata": {
  "kernelspec": {
   "display_name": "advent_2022",
   "language": "python",
   "name": "python3"
  },
  "language_info": {
   "codemirror_mode": {
    "name": "ipython",
    "version": 3
   },
   "file_extension": ".py",
   "mimetype": "text/x-python",
   "name": "python",
   "nbconvert_exporter": "python",
   "pygments_lexer": "ipython3",
   "version": "3.10.8 | packaged by conda-forge | (main, Nov 22 2022, 08:26:04) [GCC 10.4.0]"
  },
  "orig_nbformat": 4,
  "vscode": {
   "interpreter": {
    "hash": "e9c029708d60b63ec2dc0dafc20fc347cbf6e042f572f92547f8ceac5a5b7c8b"
   }
  }
 },
 "nbformat": 4,
 "nbformat_minor": 2
}
