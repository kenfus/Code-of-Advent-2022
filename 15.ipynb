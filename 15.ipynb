{
 "cells": [
  {
   "cell_type": "code",
   "execution_count": 40,
   "metadata": {},
   "outputs": [],
   "source": [
    "with open('15.txt') as f:\n",
    "    data = f.read().splitlines()\n",
    "\n",
    "ROW_MAX = 4000000"
   ]
  },
  {
   "cell_type": "code",
   "execution_count": 41,
   "metadata": {},
   "outputs": [],
   "source": [
    "import networkx as nx\n",
    "import numpy as np\n",
    "import re\n",
    "from tqdm import tqdm\n",
    "from multiprocessing import Pool"
   ]
  },
  {
   "cell_type": "code",
   "execution_count": 42,
   "metadata": {},
   "outputs": [],
   "source": [
    "###3\n",
    "def manhattan_distance(p1, p2):\n",
    "    return abs(p1[0] - p2[0]) + abs(p1[1] - p2[1])\n",
    "\n",
    "def return_impossible_beacon_pos(ROW_TO_CHECK, ROW_MAX=ROW_MAX, RETURN_TUNING_FREQ=True):\n",
    "    set_no_beacons = set()\n",
    "    sensor_list = []\n",
    "    beacon_list = []\n",
    "    for line_id, line in enumerate(data, 1):\n",
    "        if not RETURN_TUNING_FREQ:\n",
    "            print(f'Current line: {line_id} / {len(data)}')\n",
    "        sensor_x, sensor_y, beacon_x, beacon_y = re.findall(r\"-?\\d+\", line)\n",
    "        # Cast them to int\n",
    "        sensor_x, sensor_y, beacon_x, beacon_y = int(sensor_x), int(sensor_y), int(beacon_x), int(beacon_y)\n",
    "        # Add them to the list\n",
    "        sensor_list.append((sensor_y, sensor_x))\n",
    "        beacon_list.append((beacon_y, beacon_x))\n",
    "        \n",
    "        max_distance = manhattan_distance((sensor_y, sensor_x), (beacon_y, beacon_x))\n",
    "        y_height_row_to_sensor = abs(sensor_y - ROW_TO_CHECK)\n",
    "        # Check if the row is between the sensor and the beacon in the y axis\n",
    "        if abs(sensor_y - ROW_TO_CHECK) <= y_height_row_to_sensor:\n",
    "            x_distance = max_distance - y_height_row_to_sensor\n",
    "            for x in range(sensor_x - x_distance, sensor_x + x_distance + 1):\n",
    "                impossible_beacon = (ROW_TO_CHECK, x)\n",
    "                if RETURN_TUNING_FREQ:\n",
    "                    if x <= ROW_MAX and x >= 0:\n",
    "                        set_no_beacons.add((ROW_TO_CHECK, x))\n",
    "                    else:\n",
    "                        pass\n",
    "                else:\n",
    "                    set_no_beacons.add((ROW_TO_CHECK, x))\n",
    "                \n",
    "    # Remove the beacons or sensors that are in the set\n",
    "    if not RETURN_TUNING_FREQ:\n",
    "        for sensor in sensor_list:\n",
    "            if sensor in set_no_beacons:\n",
    "                set_no_beacons.remove(sensor)\n",
    "                \n",
    "        for beacon in beacon_list:\n",
    "            if beacon in set_no_beacons:\n",
    "                set_no_beacons.remove(beacon)\n",
    "            \n",
    "    if RETURN_TUNING_FREQ:\n",
    "        if len(set_no_beacons) <= ROW_MAX:\n",
    "            # Return missing element of this ROW\n",
    "            for x in range(ROW_MAX):\n",
    "                if (ROW_TO_CHECK, x) not in set_no_beacons:\n",
    "                    result = f'Beacon tuning position: {x*4000000 + ROW_TO_CHECK}'\n",
    "                    np.savetxt('result_2.txt', np.array([result], dtype=str), fmt='%s')\n",
    "    else:\n",
    "        return set_no_beacons\n"
   ]
  },
  {
   "cell_type": "code",
   "execution_count": 51,
   "metadata": {},
   "outputs": [
    {
     "name": "stdout",
     "output_type": "stream",
     "text": [
      "Current line: 1 / 14\n",
      "Current line: 2 / 14\n",
      "Current line: 3 / 14\n",
      "Current line: 4 / 14\n",
      "Current line: 5 / 14\n",
      "Current line: 6 / 14\n",
      "Current line: 7 / 14\n",
      "Current line: 8 / 14\n",
      "Current line: 9 / 14\n",
      "Current line: 10 / 14\n",
      "Current line: 11 / 14\n",
      "Current line: 12 / 14\n",
      "Current line: 13 / 14\n",
      "Current line: 14 / 14\n"
     ]
    }
   ],
   "source": [
    "ROW_TO_CHECK = 200000\n",
    "set_no_beacons = return_impossible_beacon_pos(ROW_TO_CHECK, ROW_MAX, RETURN_TUNING_FREQ=False)"
   ]
  },
  {
   "cell_type": "code",
   "execution_count": 52,
   "metadata": {},
   "outputs": [
    {
     "ename": "KeyboardInterrupt",
     "evalue": "",
     "output_type": "error",
     "traceback": [
      "\u001b[0;31m---------------------------------------------------------------------------\u001b[0m",
      "\u001b[0;31mKeyboardInterrupt\u001b[0m                         Traceback (most recent call last)",
      "Cell \u001b[0;32mIn[52], line 1\u001b[0m\n\u001b[0;32m----> 1\u001b[0m get_ipython()\u001b[39m.\u001b[39;49mrun_cell_magic(\u001b[39m'\u001b[39;49m\u001b[39mtimeit\u001b[39;49m\u001b[39m'\u001b[39;49m, \u001b[39m'\u001b[39;49m\u001b[39m'\u001b[39;49m, \u001b[39m'\u001b[39;49m\u001b[39mRANGE_ROWS = range(40)\u001b[39;49m\u001b[39m\\n\u001b[39;49;00m\u001b[39mwith Pool(20) as p:\u001b[39;49m\u001b[39m\\n\u001b[39;49;00m\u001b[39m    p.map(return_impossible_beacon_pos, RANGE_ROWS)\u001b[39;49m\u001b[39m\\n\u001b[39;49;00m\u001b[39m'\u001b[39;49m)\n",
      "File \u001b[0;32m~/miniconda3/envs/advent_2022/lib/python3.10/site-packages/IPython/core/interactiveshell.py:2417\u001b[0m, in \u001b[0;36mInteractiveShell.run_cell_magic\u001b[0;34m(self, magic_name, line, cell)\u001b[0m\n\u001b[1;32m   2415\u001b[0m \u001b[39mwith\u001b[39;00m \u001b[39mself\u001b[39m\u001b[39m.\u001b[39mbuiltin_trap:\n\u001b[1;32m   2416\u001b[0m     args \u001b[39m=\u001b[39m (magic_arg_s, cell)\n\u001b[0;32m-> 2417\u001b[0m     result \u001b[39m=\u001b[39m fn(\u001b[39m*\u001b[39;49margs, \u001b[39m*\u001b[39;49m\u001b[39m*\u001b[39;49mkwargs)\n\u001b[1;32m   2418\u001b[0m \u001b[39mreturn\u001b[39;00m result\n",
      "File \u001b[0;32m~/miniconda3/envs/advent_2022/lib/python3.10/site-packages/IPython/core/magics/execution.py:1162\u001b[0m, in \u001b[0;36mExecutionMagics.timeit\u001b[0;34m(self, line, cell, local_ns)\u001b[0m\n\u001b[1;32m   1160\u001b[0m \u001b[39mfor\u001b[39;00m index \u001b[39min\u001b[39;00m \u001b[39mrange\u001b[39m(\u001b[39m0\u001b[39m, \u001b[39m10\u001b[39m):\n\u001b[1;32m   1161\u001b[0m     number \u001b[39m=\u001b[39m \u001b[39m10\u001b[39m \u001b[39m*\u001b[39m\u001b[39m*\u001b[39m index\n\u001b[0;32m-> 1162\u001b[0m     time_number \u001b[39m=\u001b[39m timer\u001b[39m.\u001b[39;49mtimeit(number)\n\u001b[1;32m   1163\u001b[0m     \u001b[39mif\u001b[39;00m time_number \u001b[39m>\u001b[39m\u001b[39m=\u001b[39m \u001b[39m0.2\u001b[39m:\n\u001b[1;32m   1164\u001b[0m         \u001b[39mbreak\u001b[39;00m\n",
      "File \u001b[0;32m~/miniconda3/envs/advent_2022/lib/python3.10/site-packages/IPython/core/magics/execution.py:156\u001b[0m, in \u001b[0;36mTimer.timeit\u001b[0;34m(self, number)\u001b[0m\n\u001b[1;32m    154\u001b[0m gc\u001b[39m.\u001b[39mdisable()\n\u001b[1;32m    155\u001b[0m \u001b[39mtry\u001b[39;00m:\n\u001b[0;32m--> 156\u001b[0m     timing \u001b[39m=\u001b[39m \u001b[39mself\u001b[39;49m\u001b[39m.\u001b[39;49minner(it, \u001b[39mself\u001b[39;49m\u001b[39m.\u001b[39;49mtimer)\n\u001b[1;32m    157\u001b[0m \u001b[39mfinally\u001b[39;00m:\n\u001b[1;32m    158\u001b[0m     \u001b[39mif\u001b[39;00m gcold:\n",
      "File \u001b[0;32m<magic-timeit>:3\u001b[0m, in \u001b[0;36minner\u001b[0;34m(_it, _timer)\u001b[0m\n",
      "File \u001b[0;32m~/miniconda3/envs/advent_2022/lib/python3.10/multiprocessing/pool.py:367\u001b[0m, in \u001b[0;36mPool.map\u001b[0;34m(self, func, iterable, chunksize)\u001b[0m\n\u001b[1;32m    362\u001b[0m \u001b[39mdef\u001b[39;00m \u001b[39mmap\u001b[39m(\u001b[39mself\u001b[39m, func, iterable, chunksize\u001b[39m=\u001b[39m\u001b[39mNone\u001b[39;00m):\n\u001b[1;32m    363\u001b[0m     \u001b[39m'''\u001b[39;00m\n\u001b[1;32m    364\u001b[0m \u001b[39m    Apply `func` to each element in `iterable`, collecting the results\u001b[39;00m\n\u001b[1;32m    365\u001b[0m \u001b[39m    in a list that is returned.\u001b[39;00m\n\u001b[1;32m    366\u001b[0m \u001b[39m    '''\u001b[39;00m\n\u001b[0;32m--> 367\u001b[0m     \u001b[39mreturn\u001b[39;00m \u001b[39mself\u001b[39;49m\u001b[39m.\u001b[39;49m_map_async(func, iterable, mapstar, chunksize)\u001b[39m.\u001b[39;49mget()\n",
      "File \u001b[0;32m~/miniconda3/envs/advent_2022/lib/python3.10/multiprocessing/pool.py:768\u001b[0m, in \u001b[0;36mApplyResult.get\u001b[0;34m(self, timeout)\u001b[0m\n\u001b[1;32m    767\u001b[0m \u001b[39mdef\u001b[39;00m \u001b[39mget\u001b[39m(\u001b[39mself\u001b[39m, timeout\u001b[39m=\u001b[39m\u001b[39mNone\u001b[39;00m):\n\u001b[0;32m--> 768\u001b[0m     \u001b[39mself\u001b[39;49m\u001b[39m.\u001b[39;49mwait(timeout)\n\u001b[1;32m    769\u001b[0m     \u001b[39mif\u001b[39;00m \u001b[39mnot\u001b[39;00m \u001b[39mself\u001b[39m\u001b[39m.\u001b[39mready():\n\u001b[1;32m    770\u001b[0m         \u001b[39mraise\u001b[39;00m \u001b[39mTimeoutError\u001b[39;00m\n",
      "File \u001b[0;32m~/miniconda3/envs/advent_2022/lib/python3.10/multiprocessing/pool.py:765\u001b[0m, in \u001b[0;36mApplyResult.wait\u001b[0;34m(self, timeout)\u001b[0m\n\u001b[1;32m    764\u001b[0m \u001b[39mdef\u001b[39;00m \u001b[39mwait\u001b[39m(\u001b[39mself\u001b[39m, timeout\u001b[39m=\u001b[39m\u001b[39mNone\u001b[39;00m):\n\u001b[0;32m--> 765\u001b[0m     \u001b[39mself\u001b[39;49m\u001b[39m.\u001b[39;49m_event\u001b[39m.\u001b[39;49mwait(timeout)\n",
      "File \u001b[0;32m~/miniconda3/envs/advent_2022/lib/python3.10/threading.py:607\u001b[0m, in \u001b[0;36mEvent.wait\u001b[0;34m(self, timeout)\u001b[0m\n\u001b[1;32m    605\u001b[0m signaled \u001b[39m=\u001b[39m \u001b[39mself\u001b[39m\u001b[39m.\u001b[39m_flag\n\u001b[1;32m    606\u001b[0m \u001b[39mif\u001b[39;00m \u001b[39mnot\u001b[39;00m signaled:\n\u001b[0;32m--> 607\u001b[0m     signaled \u001b[39m=\u001b[39m \u001b[39mself\u001b[39;49m\u001b[39m.\u001b[39;49m_cond\u001b[39m.\u001b[39;49mwait(timeout)\n\u001b[1;32m    608\u001b[0m \u001b[39mreturn\u001b[39;00m signaled\n",
      "File \u001b[0;32m~/miniconda3/envs/advent_2022/lib/python3.10/threading.py:320\u001b[0m, in \u001b[0;36mCondition.wait\u001b[0;34m(self, timeout)\u001b[0m\n\u001b[1;32m    318\u001b[0m \u001b[39mtry\u001b[39;00m:    \u001b[39m# restore state no matter what (e.g., KeyboardInterrupt)\u001b[39;00m\n\u001b[1;32m    319\u001b[0m     \u001b[39mif\u001b[39;00m timeout \u001b[39mis\u001b[39;00m \u001b[39mNone\u001b[39;00m:\n\u001b[0;32m--> 320\u001b[0m         waiter\u001b[39m.\u001b[39;49macquire()\n\u001b[1;32m    321\u001b[0m         gotit \u001b[39m=\u001b[39m \u001b[39mTrue\u001b[39;00m\n\u001b[1;32m    322\u001b[0m     \u001b[39melse\u001b[39;00m:\n",
      "\u001b[0;31mKeyboardInterrupt\u001b[0m: "
     ]
    }
   ],
   "source": [
    "\"\"\"%%timeit\n",
    "RANGE_ROWS = range(40)\n",
    "with Pool(20) as p:\n",
    "    p.map(return_impossible_beacon_pos, RANGE_ROWS)\"\"\""
   ]
  },
  {
   "cell_type": "code",
   "execution_count": 43,
   "metadata": {},
   "outputs": [
    {
     "name": "stdout",
     "output_type": "stream",
     "text": [
      "Current line: 1 / 35\n",
      "Current line: 2 / 35\n",
      "Current line: 3 / 35\n",
      "Current line: 4 / 35\n",
      "Current line: 5 / 35\n",
      "Current line: 6 / 35\n",
      "Current line: 7 / 35\n",
      "Current line: 8 / 35\n",
      "Current line: 9 / 35\n",
      "Current line: 10 / 35\n",
      "Current line: 11 / 35\n",
      "Current line: 12 / 35\n",
      "Current line: 13 / 35\n",
      "Current line: 14 / 35\n",
      "Current line: 15 / 35\n",
      "Current line: 16 / 35\n",
      "Current line: 17 / 35\n",
      "Current line: 18 / 35\n",
      "Current line: 19 / 35\n",
      "Current line: 20 / 35\n",
      "Current line: 21 / 35\n",
      "Current line: 22 / 35\n",
      "Current line: 23 / 35\n",
      "Current line: 24 / 35\n",
      "Current line: 25 / 35\n",
      "Current line: 26 / 35\n",
      "Current line: 27 / 35\n",
      "Current line: 28 / 35\n",
      "Current line: 29 / 35\n",
      "Current line: 30 / 35\n",
      "Current line: 31 / 35\n",
      "Current line: 32 / 35\n",
      "Current line: 33 / 35\n",
      "Current line: 34 / 35\n",
      "Current line: 35 / 35\n"
     ]
    }
   ],
   "source": [
    "MAX_ROW = 4000000\n",
    "import numpy as np\n",
    "##\n",
    "sensor_list = []\n",
    "beacon_list = []\n",
    "possible_beacon_pos = set()\n",
    "\n",
    "for line_id, line in enumerate(data, 1):\n",
    "    print(f'Current line: {line_id} / {len(data)}')\n",
    "    sensor_x, sensor_y, beacon_x, beacon_y = map(int, re.findall(r\"-?\\d+\", line))\n",
    "    \n",
    "    max_distance = manhattan_distance((sensor_y, sensor_x), (beacon_y, beacon_x))\n",
    "    current_x = sensor_x\n",
    "    current_y = sensor_y - max_distance - 1\n",
    "    direction_x = 1\n",
    "    direction_y = 1\n",
    "    \n",
    "    while True:\n",
    "        if current_y >= 0 and current_y <= MAX_ROW and current_x >= 0 and current_x <= MAX_ROW:\n",
    "            possible_beacon_pos.add((current_y, current_x))\n",
    "        current_x += direction_x\n",
    "        current_y += direction_y\n",
    "        if sensor_x == current_x and sensor_y - max_distance - 1 == current_y:\n",
    "            break\n",
    "        if current_y == sensor_y:\n",
    "            direction_x *= -1\n",
    "        if current_x == sensor_x:\n",
    "            direction_y *= -1\n",
    "        else:\n",
    "            pass\n",
    "\n",
    "    sensor_list.append((sensor_y, sensor_x))\n",
    "    beacon_list.append((beacon_y, beacon_x))\n",
    "    \n",
    "    for (sensor_y, sensor_x), (beacon_y, beacon_x) in zip(sensor_list, beacon_list):\n",
    "        max_distance = manhattan_distance((sensor_y, sensor_x), (beacon_y, beacon_x))\n",
    "        to_remove = set()\n",
    "        for possible_beacon_pos_ in possible_beacon_pos:\n",
    "            if manhattan_distance((sensor_y, sensor_x), possible_beacon_pos_) <= max_distance:\n",
    "                to_remove.add(possible_beacon_pos_)\n",
    "        possible_beacon_pos -= to_remove\n",
    "        \n",
    "        "
   ]
  },
  {
   "cell_type": "code",
   "execution_count": 44,
   "metadata": {},
   "outputs": [
    {
     "data": {
      "text/plain": [
       "{(3249288, 2978645)}"
      ]
     },
     "execution_count": 44,
     "metadata": {},
     "output_type": "execute_result"
    }
   ],
   "source": [
    "possible_beacon_pos"
   ]
  },
  {
   "cell_type": "code",
   "execution_count": 50,
   "metadata": {},
   "outputs": [
    {
     "data": {
      "text/plain": [
       "11914583249288"
      ]
     },
     "execution_count": 50,
     "metadata": {},
     "output_type": "execute_result"
    }
   ],
   "source": [
    "4000000 * list(possible_beacon_pos)[0][1] + list(possible_beacon_pos)[0][0]"
   ]
  }
 ],
 "metadata": {
  "kernelspec": {
   "display_name": "advent_2022",
   "language": "python",
   "name": "python3"
  },
  "language_info": {
   "codemirror_mode": {
    "name": "ipython",
    "version": 3
   },
   "file_extension": ".py",
   "mimetype": "text/x-python",
   "name": "python",
   "nbconvert_exporter": "python",
   "pygments_lexer": "ipython3",
   "version": "3.10.8"
  },
  "orig_nbformat": 4,
  "vscode": {
   "interpreter": {
    "hash": "e9c029708d60b63ec2dc0dafc20fc347cbf6e042f572f92547f8ceac5a5b7c8b"
   }
  }
 },
 "nbformat": 4,
 "nbformat_minor": 2
}
