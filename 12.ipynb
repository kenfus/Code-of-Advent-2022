{
 "cells": [
  {
   "cell_type": "code",
   "execution_count": 286,
   "metadata": {},
   "outputs": [],
   "source": [
    "import numpy as np\n",
    "import networkx as nx"
   ]
  },
  {
   "cell_type": "code",
   "execution_count": 287,
   "metadata": {},
   "outputs": [],
   "source": [
    "with open('input.txt') as f:\n",
    "    map = f.read().splitlines()"
   ]
  },
  {
   "cell_type": "code",
   "execution_count": 288,
   "metadata": {},
   "outputs": [],
   "source": [
    "# Replace letter with number with ord\n",
    "map = [[ord(c) - ord('a') + 1 for c in line] for line in map]"
   ]
  },
  {
   "cell_type": "code",
   "execution_count": 289,
   "metadata": {},
   "outputs": [
    {
     "name": "stdout",
     "output_type": "stream",
     "text": [
      "Start at: i: 20. j: 0\n",
      "End at: i: 20. j: 43\n"
     ]
    }
   ],
   "source": [
    "for i, line in enumerate(map):\n",
    "    for j, char in enumerate(line):\n",
    "        if map[i][j] == -13:\n",
    "            print(f'Start at: i: {i}. j: {j}')\n",
    "            map[i][j] = 1\n",
    "            start = (i, j)\n",
    "        if map[i][j] == -27:\n",
    "            print(f'End at: i: {i}. j: {j}')\n",
    "            end = (i, j)\n",
    "            map[i][j] = 26"
   ]
  },
  {
   "cell_type": "code",
   "execution_count": 290,
   "metadata": {},
   "outputs": [],
   "source": [
    "import networkx as nx\n",
    "G = nx.DiGraph()"
   ]
  },
  {
   "cell_type": "code",
   "execution_count": 291,
   "metadata": {},
   "outputs": [],
   "source": [
    "VERBOSE=True\n",
    "for row_id, line in enumerate(map):\n",
    "    for col_id, number in enumerate(line):\n",
    "        G.add_node((row_id, col_id))\n",
    "        # Above, below, left, right entry, no diagonal\n",
    "        # [-1, 0], [1, 0], [0, -1], [0, 1]W\n",
    "        for i, j in [[-1, 0], [1, 0], [0, -1], [0, 1]]:\n",
    "            i += row_id\n",
    "            j += col_id\n",
    "            if i >= 0 and i < len(map) and j >= 0 and j < len(map[0]):\n",
    "                diff = map[i][j] - map[row_id][col_id]\n",
    "                if diff <= 1:\n",
    "                    G.add_edge((row_id, col_id), (i, j))"
   ]
  },
  {
   "cell_type": "code",
   "execution_count": 292,
   "metadata": {},
   "outputs": [],
   "source": [
    "# -13: S\n",
    "# -27: E\n",
    "# Indizes of start and end"
   ]
  },
  {
   "cell_type": "code",
   "execution_count": 293,
   "metadata": {},
   "outputs": [
    {
     "data": {
      "text/plain": [
       "339"
      ]
     },
     "execution_count": 293,
     "metadata": {},
     "output_type": "execute_result"
    }
   ],
   "source": [
    "# Find the shortest path\n",
    "nx.shortest_path_length(G, start, end)"
   ]
  },
  {
   "attachments": {},
   "cell_type": "markdown",
   "metadata": {},
   "source": [
    "## Second part"
   ]
  },
  {
   "cell_type": "code",
   "execution_count": 294,
   "metadata": {},
   "outputs": [],
   "source": [
    "starts = []\n",
    "for i, line in enumerate(map):\n",
    "    for j, char in enumerate(line):\n",
    "        if map[i][j] == 1:\n",
    "            starts.append((i, j))"
   ]
  },
  {
   "cell_type": "code",
   "execution_count": 295,
   "metadata": {},
   "outputs": [],
   "source": [
    "shortest_paths = []\n",
    "for start in starts:\n",
    "    try:\n",
    "        shortest_paths.append(nx.shortest_path_length(G, start, end))\n",
    "    except:\n",
    "        pass"
   ]
  },
  {
   "cell_type": "code",
   "execution_count": 296,
   "metadata": {},
   "outputs": [
    {
     "data": {
      "text/plain": [
       "332"
      ]
     },
     "execution_count": 296,
     "metadata": {},
     "output_type": "execute_result"
    }
   ],
   "source": [
    "min(shortest_paths)"
   ]
  },
  {
   "cell_type": "code",
   "execution_count": null,
   "metadata": {},
   "outputs": [],
   "source": []
  }
 ],
 "metadata": {
  "kernelspec": {
   "display_name": "Python 3.11.0 ('advent_2022')",
   "language": "python",
   "name": "python3"
  },
  "language_info": {
   "codemirror_mode": {
    "name": "ipython",
    "version": 3
   },
   "file_extension": ".py",
   "mimetype": "text/x-python",
   "name": "python",
   "nbconvert_exporter": "python",
   "pygments_lexer": "ipython3",
   "version": "3.10.8"
  },
  "orig_nbformat": 4,
  "vscode": {
   "interpreter": {
    "hash": "e9c029708d60b63ec2dc0dafc20fc347cbf6e042f572f92547f8ceac5a5b7c8b"
   }
  }
 },
 "nbformat": 4,
 "nbformat_minor": 2
}
