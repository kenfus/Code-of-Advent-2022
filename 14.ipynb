{
 "cells": [
  {
   "cell_type": "code",
   "execution_count": 143,
   "metadata": {},
   "outputs": [],
   "source": [
    "with open('14.txt') as f:\n",
    "    lines = f.readlines()\n"
   ]
  },
  {
   "cell_type": "code",
   "execution_count": 144,
   "metadata": {},
   "outputs": [],
   "source": [
    "import numpy as np"
   ]
  },
  {
   "cell_type": "code",
   "execution_count": 145,
   "metadata": {},
   "outputs": [],
   "source": [
    "cave_map = np.zeros((1000, 1000), dtype=object)\n",
    "cave_map[:] = '.'"
   ]
  },
  {
   "cell_type": "code",
   "execution_count": 146,
   "metadata": {},
   "outputs": [],
   "source": [
    "SAND_DROPS_FROM_SOURCE = 500\n",
    "#\n",
    "x_min = 1000\n",
    "x_max = 0\n",
    "y_min = 1000\n",
    "y_max = 0\n",
    "\n",
    "\n",
    "for line in lines:\n",
    "    paths = line.strip().split(' -> ')\n",
    "    x_before = None\n",
    "    y_before = None\n",
    "    for path in paths:\n",
    "        x, y = path.split(',')\n",
    "        if x_before is None and y_before is None:\n",
    "            x_before = int(x)\n",
    "            y_before = int(y)\n",
    "            continue\n",
    "        else:\n",
    "            x = int(x)\n",
    "            y = int(y)\n",
    "            \n",
    "            if x > x_max:\n",
    "                x_max = x\n",
    "            if x < x_min:\n",
    "                x_min = x\n",
    "            if y > y_max:\n",
    "                y_max = y\n",
    "            if y < y_min:\n",
    "                y_min = y\n",
    "            if x_before == x:\n",
    "                for i in range(min(y_before, y), max(y_before, y) + 1):\n",
    "                    cave_map[i, x_before] = '#'\n",
    "            else:\n",
    "                for i in range(min(x_before, x), max(x_before, x) + 1):\n",
    "                    cave_map[y_before, i] = '#'\n",
    "            x_before = x\n",
    "            y_before = y"
   ]
  },
  {
   "cell_type": "code",
   "execution_count": 147,
   "metadata": {},
   "outputs": [],
   "source": [
    "# Check that there is no Sandcorn in free flight\n",
    "VERBOSE = False\n",
    "def timestep_sand(cave_map, y_max):\n",
    "    cave_map = cave_map.copy()\n",
    "    # Drop sand from drop_from\n",
    "    for row_id, row in enumerate(cave_map):\n",
    "        for col_id, col in enumerate(row):\n",
    "            if col == 'o':\n",
    "                if False: # y_max == row_id:\n",
    "                    print('Sandcorn in abyss')\n",
    "                    print(f'Total sandcorns: {np.sum(cave_map == \"o\")-1}')\n",
    "                    return cave_map, True\n",
    "                elif row_id == 0 and cave_map[row_id+1, col_id] == 'o' and cave_map[row_id+1, col_id - 1] == 'o' and cave_map[row_id+1, col_id + 1] == 'o':\n",
    "                    print('Sandcorn at seiling')\n",
    "                    print(f'Total sandcorns: {np.sum(cave_map == \"o\")}')\n",
    "                    return cave_map, True\n",
    "                if cave_map[row_id, col_id] == '#': \n",
    "                    continue\n",
    "                # Add fall of sand if possible\n",
    "                elif cave_map[row_id + 1, col_id] in ['.']:\n",
    "                    if VERBOSE:\n",
    "                        print('Sandcorn falling')\n",
    "                    cave_map[row_id + 1, col_id] = 'o'\n",
    "                    cave_map[row_id, col_id] = '.'\n",
    "                elif cave_map[row_id + 1, col_id] in ['o', '#']:\n",
    "                    # Check if one below and to the left is air\n",
    "                    if cave_map[row_id + 1, col_id - 1] in ['.']:\n",
    "                        if VERBOSE:\n",
    "                            print('Sandcorn falling to the left')\n",
    "                        cave_map[row_id + 1, col_id - 1] = 'o'\n",
    "                        cave_map[row_id, col_id] = '.'\n",
    "                    # Check if one below and to the right is air\n",
    "                    elif cave_map[row_id + 1, col_id + 1] in ['.']:\n",
    "                        if VERBOSE:\n",
    "                            print('Sandcorn falling to the right')\n",
    "                        cave_map[row_id + 1, col_id + 1] = 'o'\n",
    "                        cave_map[row_id, col_id] = '.'\n",
    "                    \n",
    "    return cave_map, False\n",
    "    # Let Sand drop from 500, 0\n",
    "    "
   ]
  },
  {
   "cell_type": "code",
   "execution_count": 148,
   "metadata": {},
   "outputs": [],
   "source": [
    "def drop_sand(cave_map, drop_from=(0, 500)):\n",
    "    cave_map = cave_map.copy()\n",
    "    cave_map[drop_from] = 'o'\n",
    "    return cave_map"
   ]
  },
  {
   "cell_type": "code",
   "execution_count": 149,
   "metadata": {},
   "outputs": [],
   "source": [
    "cave_map_test = cave_map.copy()\n",
    "cave_map_test[y_max + 2, :] = '#'"
   ]
  },
  {
   "cell_type": "code",
   "execution_count": 150,
   "metadata": {},
   "outputs": [],
   "source": [
    "np.savetxt('14_test.txt', cave_map_test, fmt='%s')"
   ]
  },
  {
   "cell_type": "code",
   "execution_count": 165,
   "metadata": {},
   "outputs": [
    {
     "ename": "KeyboardInterrupt",
     "evalue": "",
     "output_type": "error",
     "traceback": [
      "\u001b[0;31m---------------------------------------------------------------------------\u001b[0m",
      "\u001b[0;31mKeyboardInterrupt\u001b[0m                         Traceback (most recent call last)",
      "Cell \u001b[0;32mIn[165], line 4\u001b[0m\n\u001b[1;32m      2\u001b[0m \u001b[39mwhile\u001b[39;00m \u001b[39mTrue\u001b[39;00m:\n\u001b[1;32m      3\u001b[0m     cave_map_test \u001b[39m=\u001b[39m drop_sand(cave_map_test)\u001b[39m.\u001b[39mcopy()\n\u001b[0;32m----> 4\u001b[0m     cave_map_test, done_ \u001b[39m=\u001b[39m timestep_sand(cave_map_test, y_max)\n\u001b[1;32m      5\u001b[0m     \u001b[39mif\u001b[39;00m done_:\n\u001b[1;32m      6\u001b[0m         \u001b[39mbreak\u001b[39;00m\n",
      "Cell \u001b[0;32mIn[147], line 8\u001b[0m, in \u001b[0;36mtimestep_sand\u001b[0;34m(cave_map, y_max)\u001b[0m\n\u001b[1;32m      6\u001b[0m \u001b[39mfor\u001b[39;00m row_id, row \u001b[39min\u001b[39;00m \u001b[39menumerate\u001b[39m(cave_map):\n\u001b[1;32m      7\u001b[0m     \u001b[39mfor\u001b[39;00m col_id, col \u001b[39min\u001b[39;00m \u001b[39menumerate\u001b[39m(row):\n\u001b[0;32m----> 8\u001b[0m         \u001b[39mif\u001b[39;00m col \u001b[39m==\u001b[39m \u001b[39m'\u001b[39m\u001b[39mo\u001b[39m\u001b[39m'\u001b[39m:\n\u001b[1;32m      9\u001b[0m             \u001b[39mif\u001b[39;00m \u001b[39mFalse\u001b[39;00m: \u001b[39m# y_max == row_id:\u001b[39;00m\n\u001b[1;32m     10\u001b[0m                 \u001b[39mprint\u001b[39m(\u001b[39m'\u001b[39m\u001b[39mSandcorn in abyss\u001b[39m\u001b[39m'\u001b[39m)\n",
      "\u001b[0;31mKeyboardInterrupt\u001b[0m: "
     ]
    }
   ],
   "source": [
    "# SLice the map to the minimum size\n",
    "while True:\n",
    "    cave_map_test = drop_sand(cave_map_test).copy()\n",
    "    cave_map_test, done_ = timestep_sand(cave_map_test, y_max)\n",
    "    if done_:\n",
    "        break"
   ]
  },
  {
   "cell_type": "code",
   "execution_count": 154,
   "metadata": {},
   "outputs": [],
   "source": [
    "np.savetxt('14_test.txt', cave_map_test, fmt='%s')"
   ]
  },
  {
   "attachments": {},
   "cell_type": "markdown",
   "metadata": {},
   "source": [
    "## Part Two"
   ]
  },
  {
   "cell_type": "code",
   "execution_count": 168,
   "metadata": {},
   "outputs": [
    {
     "data": {
      "text/plain": [
       "28821"
      ]
     },
     "execution_count": 168,
     "metadata": {},
     "output_type": "execute_result"
    }
   ],
   "source": [
    "np.sum(cave_map_test=='o')"
   ]
  }
 ],
 "metadata": {
  "kernelspec": {
   "display_name": "advent_2022",
   "language": "python",
   "name": "python3"
  },
  "language_info": {
   "codemirror_mode": {
    "name": "ipython",
    "version": 3
   },
   "file_extension": ".py",
   "mimetype": "text/x-python",
   "name": "python",
   "nbconvert_exporter": "python",
   "pygments_lexer": "ipython3",
   "version": "3.10.8"
  },
  "orig_nbformat": 4,
  "vscode": {
   "interpreter": {
    "hash": "e9c029708d60b63ec2dc0dafc20fc347cbf6e042f572f92547f8ceac5a5b7c8b"
   }
  }
 },
 "nbformat": 4,
 "nbformat_minor": 2
}
