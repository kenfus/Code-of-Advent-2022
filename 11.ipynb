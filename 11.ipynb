{
 "cells": [
  {
   "cell_type": "code",
   "execution_count": 85,
   "metadata": {},
   "outputs": [],
   "source": [
    "class Item:\n",
    "  def __init__(self, worry_level):\n",
    "    self.worry_level = worry_level\n",
    "    \n",
    "class Monkey:\n",
    "  def __init__(self):\n",
    "    self.items = []\n",
    "    self._operation = ''\n",
    "    # Test\n",
    "    self.div_by = 0\n",
    "    self.test_pass_monkey = 0\n",
    "    self.test_fail_monkey = 0\n",
    "\n",
    "    # Items inspected \n",
    "    self.items_inspected = 0\n",
    "\n",
    "  def operation(self, item):\n",
    "    old = item.worry_level\n",
    "    item.worry_level = eval(self._operation)\n",
    "    return item\n",
    "\n",
    "  def get_bored(self, item):\n",
    "    item.worry_level #//= 3\n",
    "    \n",
    "    return item\n",
    "\n",
    "  def inspect_elements(self, Monkeys):\n",
    "    while self.items:\n",
    "      item = self.items.pop(0)\n",
    "      item = self.operation(item)\n",
    "      item = self.get_bored(item)\n",
    "\n",
    "      # Test\n",
    "      monkey_to_pass = self.test_pass_monkey if item.worry_level % self.div_by == 0 else self.test_fail_monkey\n",
    "      item.worry_level = item.worry_level % DIVIDER\n",
    "      Monkeys[monkey_to_pass].items.append(item)\n",
    "\n",
    "      self.items_inspected += 1"
   ]
  },
  {
   "cell_type": "code",
   "execution_count": 86,
   "metadata": {},
   "outputs": [
    {
     "data": {
      "text/plain": [
       "3094124"
      ]
     },
     "execution_count": 86,
     "metadata": {},
     "output_type": "execute_result"
    }
   ],
   "source": [
    "5131513513513534234165261414512314 % DIVIDER"
   ]
  },
  {
   "cell_type": "code",
   "execution_count": 87,
   "metadata": {},
   "outputs": [],
   "source": [
    "with open('input.txt', 'r') as f:\n",
    "  lines = f.readlines()"
   ]
  },
  {
   "cell_type": "code",
   "execution_count": 88,
   "metadata": {},
   "outputs": [
    {
     "name": "stdout",
     "output_type": "stream",
     "text": [
      "Creating new Monkey 0:\n",
      "Creating new Monkey 1:\n",
      "Creating new Monkey 2:\n",
      "Creating new Monkey 3:\n",
      "Creating new Monkey 4:\n",
      "Creating new Monkey 5:\n",
      "Creating new Monkey 6:\n",
      "Creating new Monkey 7:\n"
     ]
    }
   ],
   "source": [
    "monkeys = []\n",
    "DIVIDER = 1\n",
    "for line in lines:\n",
    "    line = line.strip()\n",
    "    if 'Monkey ' in line:\n",
    "        monkey = Monkey()\n",
    "        monkeys.append(monkey)\n",
    "        print(f'Creating new ' + line)\n",
    "    elif 'Starting items:' in line:\n",
    "        items = line.split('items: ')[1]\n",
    "        if ',' in items:\n",
    "            items = items.split(', ')\n",
    "        else:\n",
    "            items = [items]\n",
    "        for item in items:\n",
    "            monkey.items.append(Item(int(item)))\n",
    "    elif 'Operation:' in line:\n",
    "        operations = line.split('Operation: new = ')[1].strip()\n",
    "        monkeys[-1]._operation = operations\n",
    "    elif 'Test: ' in line:\n",
    "        div_by = line.split('Test: divisible by ')[1].strip()\n",
    "        monkeys[-1].div_by = int(div_by)\n",
    "        DIVIDER *= int(div_by)\n",
    "    elif 'If true' in line:\n",
    "        monkeys[-1].test_pass_monkey = int(line.split('monkey ')[1].strip())\n",
    "    elif 'If false' in line:\n",
    "        monkeys[-1].test_fail_monkey = int(line.split('monkey ')[1].strip())"
   ]
  },
  {
   "cell_type": "code",
   "execution_count": 89,
   "metadata": {},
   "outputs": [
    {
     "data": {
      "text/plain": [
       "9699690"
      ]
     },
     "execution_count": 89,
     "metadata": {},
     "output_type": "execute_result"
    }
   ],
   "source": [
    "DIVIDER"
   ]
  },
  {
   "cell_type": "code",
   "execution_count": 90,
   "metadata": {},
   "outputs": [
    {
     "name": "stderr",
     "output_type": "stream",
     "text": [
      "100%|██████████| 100000/100000 [00:34<00:00, 2925.81it/s]\n"
     ]
    }
   ],
   "source": [
    "ROUNDS = 100000\n",
    "inspect_elements = [[] for _ in range(len(monkeys))]\n",
    "from tqdm import tqdm\n",
    "\n",
    "for i in tqdm(range(ROUNDS)):\n",
    "    for id, monkey in enumerate(monkeys):\n",
    "        monkey.inspect_elements(monkeys)\n",
    "        inspect_elements[id].append(monkey.items_inspected)\n"
   ]
  },
  {
   "cell_type": "code",
   "execution_count": 91,
   "metadata": {},
   "outputs": [
    {
     "name": "stdout",
     "output_type": "stream",
     "text": [
      "[458851, 1311129, 878049, 951954, 1073956, 961839, 744004, 415540]\n"
     ]
    }
   ],
   "source": [
    "inspected_elements = []\n",
    "for monkey in monkeys:\n",
    "    inspected_elements.append(monkey.items_inspected)\n",
    "print(inspected_elements)"
   ]
  },
  {
   "cell_type": "code",
   "execution_count": 92,
   "metadata": {},
   "outputs": [
    {
     "name": "stdout",
     "output_type": "stream",
     "text": [
      "Top two inspected elements multiplied: 1408094856324\n"
     ]
    }
   ],
   "source": [
    "inspected_elements.sort()\n",
    "\n",
    "print(\"Top two inspected elements multiplied: \" + str(inspected_elements[-1] * inspected_elements[-2]))"
   ]
  },
  {
   "cell_type": "code",
   "execution_count": null,
   "metadata": {},
   "outputs": [],
   "source": []
  }
 ],
 "metadata": {
  "kernelspec": {
   "display_name": "Python 3.9.12 ('base': conda)",
   "language": "python",
   "name": "python3"
  },
  "language_info": {
   "codemirror_mode": {
    "name": "ipython",
    "version": 3
   },
   "file_extension": ".py",
   "mimetype": "text/x-python",
   "name": "python",
   "nbconvert_exporter": "python",
   "pygments_lexer": "ipython3",
   "version": "3.9.12"
  },
  "orig_nbformat": 4,
  "vscode": {
   "interpreter": {
    "hash": "8964877aef109d195c460730abd4e37d4d2dd07882bbb9a78c74b245bc1da7dd"
   }
  }
 },
 "nbformat": 4,
 "nbformat_minor": 2
}
